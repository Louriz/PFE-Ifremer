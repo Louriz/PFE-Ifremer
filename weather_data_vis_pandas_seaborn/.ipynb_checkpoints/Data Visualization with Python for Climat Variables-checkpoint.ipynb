{
 "cells": [
  {
   "cell_type": "markdown",
   "metadata": {},
   "source": [
    "# Machine Learning Applied to Weather Forecasting"
   ]
  },
  {
   "cell_type": "markdown",
   "metadata": {},
   "source": [
    "## Introduction "
   ]
  },
  {
   "cell_type": "markdown",
   "metadata": {},
   "source": [
    "La prévision météorologique est la tâche de prédire l'état de l'atmosphère à une date future et dans une région spécifique. Habituellement, cette prévision a été fait grâce à des simulations physiques dans lesquelles l'atmosphère est modélisée comme un fluide. L'état futur de l'atmosphère est calculé en résolvant numériquement des équations de la dynamique des fluides et de la thermodynamique. Cependant, le système des équations différentielles ordinaires qui régissent ce modèle physique est instable à cause des perturbations. De plus  les incertitudes  dans les mesures initiales des conditions atmosphèriques et la compréhension  incomplète des processus atmosphériques complexes restreignent la précision des prévisions au-delà petite période (environ 10 jours). Le Machine Learning, à l'inverse, est relativement robuste aux perturbations et n'impose pas une compréhension compléte des processus physiques qui régissent l'atmosphère. Par conséquent, Le Machine Learning peut représenter une alternative fiable pour le forecasting météorologique."
   ]
  },
  {
   "cell_type": "markdown",
   "metadata": {},
   "source": [
    "Dés lors, ce projet a pour but  d'utiliser Python et Machine Learning dans le but d'établir des modèles de prévision de la température à base des données collectées à partir de la plate-forme Underground. Au cours de ce projet, nous allons mettre l'accent sur les différentes étapes permettant de bien réussir un projet Machine Learning via la méthode <i>CRISP-DM</i>. Ci-dessous le plan qui sera examiné tout au long de la première partie de mon PFE :  "
   ]
  },
  {
   "cell_type": "markdown",
   "metadata": {},
   "source": [
    "---\n",
    "\n",
    "<b>\n",
    "1. Collecte et traitement de données \n",
    "2. Modèle ARIMA de prévision\n",
    "3. Modèle Régression Linéaire\n",
    "4. Modèle Réseau de neurones\n",
    "</b>\n",
    "\n",
    "---"
   ]
  },
  {
   "cell_type": "markdown",
   "metadata": {},
   "source": [
    "## Problématique :\n"
   ]
  },
  {
   "cell_type": "markdown",
   "metadata": {},
   "source": [
    "Nous nous intérressons à l'étude de la variable climatique \"Témperature\" dans le but d'étudier son intercation  avec d'autres variables climatiques et de trouver un bon modéle statistique qui permet de faire son forecasting."
   ]
  },
  {
   "cell_type": "markdown",
   "metadata": {},
   "source": [
    "## Formalisation en Data Mining : "
   ]
  },
  {
   "cell_type": "markdown",
   "metadata": {},
   "source": [
    "#### Contraintes : "
   ]
  },
  {
   "cell_type": "markdown",
   "metadata": {},
   "source": [
    "Avant de commencer la traduction de notre problématique en probléme de fouille de données, nous devons d'abord définir notre variable cible - s'elle exist éventuellement - ainsi que les variables indépendentes (features)."
   ]
  },
  {
   "cell_type": "markdown",
   "metadata": {},
   "source": [
    "1. Notre variable cible :  La température\n",
    "2. Les variables indépendentes :  Nous allons utiliser les mêmes variables mentionnées dans le document surlequel nous sommes basés (Machine Learning Applied to Weather Forecasting) et éventuellement nous allons ajouter d'autres variables qui nous semblent intéressantes.\n"
   ]
  },
  {
   "cell_type": "markdown",
   "metadata": {},
   "source": [
    "#### Formalisation : "
   ]
  },
  {
   "cell_type": "markdown",
   "metadata": {},
   "source": [
    "La catégorie d'apprentissage qui a lieu ici s'agit de l'apprentissage supervisé et plus particuliérement sa sous catégorie : La régression linéaire (la variable à étudier est continue)."
   ]
  },
  {
   "cell_type": "markdown",
   "metadata": {},
   "source": [
    "## Compréhension du marché/domaine "
   ]
  },
  {
   "cell_type": "markdown",
   "metadata": {},
   "source": [
    "Il existe une variété d'applications pour les  prévisions météorologiques. Les avertissements météorologiques sont des prévisions importantes car ils servent à protéger la vie et la propriété. Les prévisions fondées sur la température et les précipitations sont importantes pour l'agriculture et donc pour les négociants sur les marchés des produits de base. Puisque les activités de plein air sont sévèrement limitées par les fortes pluies et la neige, les prévisions peuvent être utilisées pour planifier des activités autour de ces événements, ainsi que pour planifier et survivre. En 2014, les États-Unis ont dépensé 5,1 milliards de dollars en prévisions météorologiques, d'où l'importance de la prévision météorologique."
   ]
  },
  {
   "cell_type": "markdown",
   "metadata": {},
   "source": [
    "## Compréhension des données"
   ]
  },
  {
   "cell_type": "markdown",
   "metadata": {},
   "source": [
    "Cette partie implique l'étude des données de l'extraction de celles-ci à la préparation. Cette étape a un poids important dans la méthode CRISP-DM car elle permet d'éviter les problèmes inattendus au cours de la phase de la préparation  des données. Pour bien amener cette étape, nous allons suivre le plan suivant:"
   ]
  },
  {
   "cell_type": "markdown",
   "metadata": {},
   "source": [
    "### A :  Collecte des données initiales "
   ]
  },
  {
   "cell_type": "markdown",
   "metadata": {},
   "source": [
    "###### <i> Sources des données </i> : "
   ]
  },
  {
   "cell_type": "markdown",
   "metadata": {},
   "source": [
    "Les données qui seront utilisées au cours de ce projet sont collectées à partir de la l'API gratuite de la  plateforme gratuite <b>Weather Underground API</b>. Une fois les données sont récupérées, nous allons les nettoyer, les agréger sous un format adapté à l'analyse de données. "
   ]
  },
  {
   "cell_type": "markdown",
   "metadata": {},
   "source": [
    "###### <i> Brief description de la source des données  :</i>"
   ]
  },
  {
   "cell_type": "markdown",
   "metadata": {},
   "source": [
    "<b>Weather Underground</b> est une société qui recueille et distribue des données sur diverses mesures météorologiques à travers le monde. La société fournit une panoplie d'API disponibles à des fins commerciales et non commerciales. Dans notre projet, nous allons  décrire comment faire le scraping   des données météorologiques quotidiennes  en utilisant leur service gratuit disponible à des fins non commerciales."
   ]
  },
  {
   "cell_type": "markdown",
   "metadata": {},
   "source": [
    "<i>Scraping des données à partir de la plate-forme en question : </i>"
   ]
  },
  {
   "cell_type": "markdown",
   "metadata": {},
   "source": [
    "###### <b> Prérequis :</b> "
   ]
  },
  {
   "cell_type": "markdown",
   "metadata": {},
   "source": [
    "- Il faut avoir un compte développeur gratuit, pour cela il faut créer son compte sur le lien suivant :  https://www.wunderground.com/weather/api/\n",
    "- Ce compte fournit une clé API permettant d'accéder au service Web  jusqu'à un total de 500 demandes (requests) par jour avec 10 demandes par minute\n",
    "\n",
    "- Le format de la demande est le suivant : \n",
    "\n",
    "\n",
    "<mark>http://api.wunderground.com/api/API_KEY/history_YYYYMMDD/q/STATE/CITY.json  </mark>\n",
    "\n",
    "\n",
    "\n",
    "    - API_KEY : L'API_KEY fourni par L'API lors de la création de votre compte \n",
    "    - YYYYMMDD : une chaîne de caractére spécifiant la date de la demande\n",
    "    - STATE : l'abréviation d'Etat à deux lettres aux États-Unis\n",
    "    - CITY : le nom de la ville associée à l'Etat choisi\n"
   ]
  },
  {
   "cell_type": "markdown",
   "metadata": {},
   "source": [
    "![](pictures/wunderground_limits.PNG)"
   ]
  },
  {
   "cell_type": "markdown",
   "metadata": {},
   "source": [
    "<i>Nous allons travailler sur la ville Lincoln qui fait partie l'État du Nebraska, aux États-Unis.</i>"
   ]
  },
  {
   "cell_type": "code",
   "execution_count": 1,
   "metadata": {
    "collapsed": true
   },
   "outputs": [],
   "source": [
    "#required libraries : \n",
    "from datetime import datetime, timedelta # used to increment our requests by day\n",
    "import time  # used to delay requests to stay under 10 per minutes\n",
    "from collections import namedtuple # use namedtuples for structured collection of data\n",
    "import pandas as pd  # used to process, organize and clean the data\n",
    "import requests  # used to make networked requests to the API\n",
    "import matplotlib.pyplot as plt # used for graphical analysis\n",
    "import pickle\n",
    "%matplotlib inline  \n",
    "# matplotlib inline : permit the figures to be shown inside the current notebook"
   ]
  },
  {
   "cell_type": "markdown",
   "metadata": {},
   "source": [
    "###### Comprendre le flux de données : "
   ]
  },
  {
   "cell_type": "code",
   "execution_count": 3,
   "metadata": {
    "collapsed": true
   },
   "outputs": [],
   "source": [
    "# global variables : \n",
    "API_KEY = 'd61418389beb8d5e'  \n",
    "BASE_URL = \"http://api.wunderground.com/api/{}/history_{}/q/NE/Lincoln.json\"  \n",
    "target_date = datetime(2016, 5, 16)  "
   ]
  },
  {
   "cell_type": "code",
   "execution_count": 19,
   "metadata": {
    "collapsed": true
   },
   "outputs": [],
   "source": [
    "def extract_sample_weather_data(url, api_key, target_date, days): \n",
    "    \n",
    "    for _ in range(days):\n",
    "        request = BASE_URL.format(API_KEY, target_date.strftime('%Y%m%d')) # formatting the BASE_URL by interpolating the missing values\n",
    "        response = requests.get(request)\n",
    "        print(\"-------response--------- : \" )\n",
    "        print(response)\n",
    "        if response.status_code == 200: # make sure the request was successful by evaluating that the HTTP status code is equal to 200 \n",
    "            data = response.json()['history']['dailysummary'][0]\n",
    "            print(\"--------data--------\")\n",
    "            print(type(data),data)\n",
    "            print(\"------keys in dict data :----- \")\n",
    "            print(data.keys())\n",
    "            print('---------history----------')\n",
    "            print(response.json()['history'])\n",
    "            print('---------dailysummary-------------')\n",
    "            print(response.json()['history']['dailysummary'])"
   ]
  },
  {
   "cell_type": "markdown",
   "metadata": {},
   "source": [
    "Nous allons d'abord traiter une seule demande afin de se familiariser avec le <b>json</b> file : "
   ]
  },
  {
   "cell_type": "code",
   "execution_count": 20,
   "metadata": {
    "scrolled": true
   },
   "outputs": [
    {
     "name": "stdout",
     "output_type": "stream",
     "text": [
      "-------response--------- : \n",
      "<Response [200]>\n",
      "--------data--------\n",
      "<class 'dict'> {'date': {'pretty': '12:00 PM CDT on May 16, 2016', 'year': '2016', 'mon': '05', 'mday': '16', 'hour': '12', 'min': '00', 'tzname': 'America/Chicago'}, 'fog': '0', 'rain': '1', 'snow': '0', 'snowfallm': '0.00', 'snowfalli': '0.00', 'monthtodatesnowfallm': '0.00', 'monthtodatesnowfalli': '0.00', 'since1julsnowfallm': '52.07', 'since1julsnowfalli': '20.50', 'snowdepthm': '0.00', 'snowdepthi': '0.00', 'hail': '0', 'thunder': '0', 'tornado': '0', 'meantempm': '11', 'meantempi': '51', 'meandewptm': '8', 'meandewpti': '47', 'meanpressurem': '1020', 'meanpressurei': '30.11', 'meanwindspdm': '15', 'meanwindspdi': '9', 'meanwdire': '', 'meanwdird': '86', 'meanvism': '12', 'meanvisi': '8', 'humidity': '', 'maxtempm': '12', 'maxtempi': '54', 'mintempm': '9', 'mintempi': '48', 'maxhumidity': '93', 'minhumidity': '71', 'maxdewptm': '10', 'maxdewpti': '50', 'mindewptm': '6', 'mindewpti': '42', 'maxpressurem': '1022', 'maxpressurei': '30.17', 'minpressurem': '1019', 'minpressurei': '30.08', 'maxwspdm': '32', 'maxwspdi': '20', 'minwspdm': '0', 'minwspdi': '0', 'maxvism': '16', 'maxvisi': '10', 'minvism': '5', 'minvisi': '3', 'gdegreedays': '1', 'heatingdegreedays': '14', 'coolingdegreedays': '0', 'precipm': '7.11', 'precipi': '0.28', 'precipsource': '', 'heatingdegreedaysnormal': '5', 'monthtodateheatingdegreedays': '100', 'monthtodateheatingdegreedaysnormal': '105', 'since1sepheatingdegreedays': '', 'since1sepheatingdegreedaysnormal': '', 'since1julheatingdegreedays': '4853', 'since1julheatingdegreedaysnormal': '5998', 'coolingdegreedaysnormal': '2', 'monthtodatecoolingdegreedays': '9', 'monthtodatecoolingdegreedaysnormal': '21', 'since1sepcoolingdegreedays': '', 'since1sepcoolingdegreedaysnormal': '', 'since1jancoolingdegreedays': '18', 'since1jancoolingdegreedaysnormal': '35'}\n",
      "------keys in dict data :----- \n",
      "dict_keys(['date', 'fog', 'rain', 'snow', 'snowfallm', 'snowfalli', 'monthtodatesnowfallm', 'monthtodatesnowfalli', 'since1julsnowfallm', 'since1julsnowfalli', 'snowdepthm', 'snowdepthi', 'hail', 'thunder', 'tornado', 'meantempm', 'meantempi', 'meandewptm', 'meandewpti', 'meanpressurem', 'meanpressurei', 'meanwindspdm', 'meanwindspdi', 'meanwdire', 'meanwdird', 'meanvism', 'meanvisi', 'humidity', 'maxtempm', 'maxtempi', 'mintempm', 'mintempi', 'maxhumidity', 'minhumidity', 'maxdewptm', 'maxdewpti', 'mindewptm', 'mindewpti', 'maxpressurem', 'maxpressurei', 'minpressurem', 'minpressurei', 'maxwspdm', 'maxwspdi', 'minwspdm', 'minwspdi', 'maxvism', 'maxvisi', 'minvism', 'minvisi', 'gdegreedays', 'heatingdegreedays', 'coolingdegreedays', 'precipm', 'precipi', 'precipsource', 'heatingdegreedaysnormal', 'monthtodateheatingdegreedays', 'monthtodateheatingdegreedaysnormal', 'since1sepheatingdegreedays', 'since1sepheatingdegreedaysnormal', 'since1julheatingdegreedays', 'since1julheatingdegreedaysnormal', 'coolingdegreedaysnormal', 'monthtodatecoolingdegreedays', 'monthtodatecoolingdegreedaysnormal', 'since1sepcoolingdegreedays', 'since1sepcoolingdegreedaysnormal', 'since1jancoolingdegreedays', 'since1jancoolingdegreedaysnormal'])\n",
      "---------history----------\n",
      "{'date': {'pretty': 'May 16, 2016', 'year': '2016', 'mon': '05', 'mday': '16', 'hour': '12', 'min': '00', 'tzname': 'America/Chicago'}, 'utcdate': {'pretty': 'May 16, 2016', 'year': '2016', 'mon': '05', 'mday': '16', 'hour': '17', 'min': '00', 'tzname': 'UTC'}, 'observations': [{'date': {'pretty': '12:54 AM CDT on May 16, 2016', 'year': '2016', 'mon': '05', 'mday': '16', 'hour': '00', 'min': '54', 'tzname': 'America/Chicago'}, 'utcdate': {'pretty': '5:54 AM GMT on May 16, 2016', 'year': '2016', 'mon': '05', 'mday': '16', 'hour': '05', 'min': '54', 'tzname': 'UTC'}, 'tempm': '11.1', 'tempi': '52.0', 'dewptm': '5.6', 'dewpti': '42.1', 'hum': '69', 'wspdm': '5.6', 'wspdi': '3.5', 'wgustm': '-9999.0', 'wgusti': '-9999.0', 'wdird': '200', 'wdire': 'SSW', 'vism': '16.1', 'visi': '10.0', 'pressurem': '1020.6', 'pressurei': '30.14', 'windchillm': '-999', 'windchilli': '-999', 'heatindexm': '-9999', 'heatindexi': '-9999', 'precipm': '-9999.00', 'precipi': '-9999.00', 'conds': 'Overcast', 'icon': 'cloudy', 'fog': '0', 'rain': '0', 'snow': '0', 'hail': '0', 'thunder': '0', 'tornado': '0', 'metar': 'METAR KLNK 160554Z AUTO 20003KT 10SM OVC100 11/06 A3014 RMK AO2 SLP206 T01110056 10161 20106 401780033 51001'}, {'date': {'pretty': '1:54 AM CDT on May 16, 2016', 'year': '2016', 'mon': '05', 'mday': '16', 'hour': '01', 'min': '54', 'tzname': 'America/Chicago'}, 'utcdate': {'pretty': '6:54 AM GMT on May 16, 2016', 'year': '2016', 'mon': '05', 'mday': '16', 'hour': '06', 'min': '54', 'tzname': 'UTC'}, 'tempm': '10.6', 'tempi': '51.1', 'dewptm': '6.1', 'dewpti': '43.0', 'hum': '74', 'wspdm': '0.0', 'wspdi': '0.0', 'wgustm': '-9999.0', 'wgusti': '-9999.0', 'wdird': '0', 'wdire': 'North', 'vism': '16.1', 'visi': '10.0', 'pressurem': '1020.7', 'pressurei': '30.14', 'windchillm': '-999', 'windchilli': '-999', 'heatindexm': '-9999', 'heatindexi': '-9999', 'precipm': '-9999.00', 'precipi': '-9999.00', 'conds': 'Overcast', 'icon': 'cloudy', 'fog': '0', 'rain': '0', 'snow': '0', 'hail': '0', 'thunder': '0', 'tornado': '0', 'metar': 'METAR KLNK 160654Z AUTO 00000KT 10SM BKN080 OVC100 11/06 A3015 RMK AO2 SLP207 T01060061'}, {'date': {'pretty': '2:54 AM CDT on May 16, 2016', 'year': '2016', 'mon': '05', 'mday': '16', 'hour': '02', 'min': '54', 'tzname': 'America/Chicago'}, 'utcdate': {'pretty': '7:54 AM GMT on May 16, 2016', 'year': '2016', 'mon': '05', 'mday': '16', 'hour': '07', 'min': '54', 'tzname': 'UTC'}, 'tempm': '10.6', 'tempi': '51.1', 'dewptm': '6.1', 'dewpti': '43.0', 'hum': '74', 'wspdm': '11.1', 'wspdi': '6.9', 'wgustm': '-9999.0', 'wgusti': '-9999.0', 'wdird': '180', 'wdire': 'South', 'vism': '16.1', 'visi': '10.0', 'pressurem': '1020.1', 'pressurei': '30.13', 'windchillm': '-999', 'windchilli': '-999', 'heatindexm': '-9999', 'heatindexi': '-9999', 'precipm': '-9999.00', 'precipi': '-9999.00', 'conds': 'Overcast', 'icon': 'cloudy', 'fog': '0', 'rain': '0', 'snow': '0', 'hail': '0', 'thunder': '0', 'tornado': '0', 'metar': 'METAR KLNK 160754Z AUTO 18006KT 10SM OVC050 11/06 A3013 RMK AO2 SLP201 T01060061'}, {'date': {'pretty': '3:54 AM CDT on May 16, 2016', 'year': '2016', 'mon': '05', 'mday': '16', 'hour': '03', 'min': '54', 'tzname': 'America/Chicago'}, 'utcdate': {'pretty': '8:54 AM GMT on May 16, 2016', 'year': '2016', 'mon': '05', 'mday': '16', 'hour': '08', 'min': '54', 'tzname': 'UTC'}, 'tempm': '10.6', 'tempi': '51.1', 'dewptm': '6.1', 'dewpti': '43.0', 'hum': '74', 'wspdm': '7.4', 'wspdi': '4.6', 'wgustm': '-9999.0', 'wgusti': '-9999.0', 'wdird': '170', 'wdire': 'South', 'vism': '16.1', 'visi': '10.0', 'pressurem': '1019.5', 'pressurei': '30.11', 'windchillm': '-999', 'windchilli': '-999', 'heatindexm': '-9999', 'heatindexi': '-9999', 'precipm': '-9999.00', 'precipi': '-9999.00', 'conds': 'Overcast', 'icon': 'cloudy', 'fog': '0', 'rain': '0', 'snow': '0', 'hail': '0', 'thunder': '0', 'tornado': '0', 'metar': 'METAR KLNK 160854Z AUTO 17004KT 10SM BKN038 OVC050 11/06 A3011 RMK AO2 SLP195 T01060061 58010'}, {'date': {'pretty': '4:54 AM CDT on May 16, 2016', 'year': '2016', 'mon': '05', 'mday': '16', 'hour': '04', 'min': '54', 'tzname': 'America/Chicago'}, 'utcdate': {'pretty': '9:54 AM GMT on May 16, 2016', 'year': '2016', 'mon': '05', 'mday': '16', 'hour': '09', 'min': '54', 'tzname': 'UTC'}, 'tempm': '10.6', 'tempi': '51.1', 'dewptm': '6.1', 'dewpti': '43.0', 'hum': '74', 'wspdm': '9.3', 'wspdi': '5.8', 'wgustm': '-9999.0', 'wgusti': '-9999.0', 'wdird': '170', 'wdire': 'South', 'vism': '16.1', 'visi': '10.0', 'pressurem': '1019.4', 'pressurei': '30.11', 'windchillm': '-999', 'windchilli': '-999', 'heatindexm': '-9999', 'heatindexi': '-9999', 'precipm': '-9999.00', 'precipi': '-9999.00', 'conds': 'Overcast', 'icon': 'cloudy', 'fog': '0', 'rain': '0', 'snow': '0', 'hail': '0', 'thunder': '0', 'tornado': '0', 'metar': 'METAR KLNK 160954Z AUTO 17005KT 10SM OVC042 11/06 A3011 RMK AO2 SLP194 T01060061'}, {'date': {'pretty': '5:54 AM CDT on May 16, 2016', 'year': '2016', 'mon': '05', 'mday': '16', 'hour': '05', 'min': '54', 'tzname': 'America/Chicago'}, 'utcdate': {'pretty': '10:54 AM GMT on May 16, 2016', 'year': '2016', 'mon': '05', 'mday': '16', 'hour': '10', 'min': '54', 'tzname': 'UTC'}, 'tempm': '10.0', 'tempi': '50.0', 'dewptm': '6.7', 'dewpti': '44.1', 'hum': '80', 'wspdm': '9.3', 'wspdi': '5.8', 'wgustm': '-9999.0', 'wgusti': '-9999.0', 'wdird': '160', 'wdire': 'SSE', 'vism': '16.1', 'visi': '10.0', 'pressurem': '1019.2', 'pressurei': '30.10', 'windchillm': '-999', 'windchilli': '-999', 'heatindexm': '-9999', 'heatindexi': '-9999', 'precipm': '-9999.00', 'precipi': '-9999.00', 'conds': 'Overcast', 'icon': 'cloudy', 'fog': '0', 'rain': '0', 'snow': '0', 'hail': '0', 'thunder': '0', 'tornado': '0', 'metar': 'METAR KLNK 161054Z 16005KT 10SM OVC039 10/07 A3010 RMK AO2 SLP192 T01000067'}, {'date': {'pretty': '6:54 AM CDT on May 16, 2016', 'year': '2016', 'mon': '05', 'mday': '16', 'hour': '06', 'min': '54', 'tzname': 'America/Chicago'}, 'utcdate': {'pretty': '11:54 AM GMT on May 16, 2016', 'year': '2016', 'mon': '05', 'mday': '16', 'hour': '11', 'min': '54', 'tzname': 'UTC'}, 'tempm': '10.6', 'tempi': '51.1', 'dewptm': '6.7', 'dewpti': '44.1', 'hum': '77', 'wspdm': '11.1', 'wspdi': '6.9', 'wgustm': '-9999.0', 'wgusti': '-9999.0', 'wdird': '150', 'wdire': 'SSE', 'vism': '16.1', 'visi': '10.0', 'pressurem': '1019.2', 'pressurei': '30.10', 'windchillm': '-999', 'windchilli': '-999', 'heatindexm': '-9999', 'heatindexi': '-9999', 'precipm': '-9999.00', 'precipi': '-9999.00', 'conds': 'Overcast', 'icon': 'cloudy', 'fog': '0', 'rain': '0', 'snow': '0', 'hail': '0', 'thunder': '0', 'tornado': '0', 'metar': 'METAR KLNK 161154Z 15006KT 10SM BKN032 OVC040 11/07 A3010 RMK AO2 SLP192 T01060067 10111 20100 55004'}, {'date': {'pretty': '7:24 AM CDT on May 16, 2016', 'year': '2016', 'mon': '05', 'mday': '16', 'hour': '07', 'min': '24', 'tzname': 'America/Chicago'}, 'utcdate': {'pretty': '12:24 PM GMT on May 16, 2016', 'year': '2016', 'mon': '05', 'mday': '16', 'hour': '12', 'min': '24', 'tzname': 'UTC'}, 'tempm': '10.6', 'tempi': '51.1', 'dewptm': '7.2', 'dewpti': '45.0', 'hum': '80', 'wspdm': '11.1', 'wspdi': '6.9', 'wgustm': '-9999.0', 'wgusti': '-9999.0', 'wdird': '160', 'wdire': 'SSE', 'vism': '16.1', 'visi': '10.0', 'pressurem': '1019.5', 'pressurei': '30.11', 'windchillm': '-999', 'windchilli': '-999', 'heatindexm': '-9999', 'heatindexi': '-9999', 'precipm': '-9999.00', 'precipi': '-9999.00', 'conds': 'Overcast', 'icon': 'cloudy', 'fog': '0', 'rain': '0', 'snow': '0', 'hail': '0', 'thunder': '0', 'tornado': '0', 'metar': 'SPECI KLNK 161224Z 16006KT 10SM OVC027 11/07 A3011 RMK AO2 T01060072'}, {'date': {'pretty': '7:54 AM CDT on May 16, 2016', 'year': '2016', 'mon': '05', 'mday': '16', 'hour': '07', 'min': '54', 'tzname': 'America/Chicago'}, 'utcdate': {'pretty': '12:54 PM GMT on May 16, 2016', 'year': '2016', 'mon': '05', 'mday': '16', 'hour': '12', 'min': '54', 'tzname': 'UTC'}, 'tempm': '10.6', 'tempi': '51.1', 'dewptm': '6.7', 'dewpti': '44.1', 'hum': '77', 'wspdm': '11.1', 'wspdi': '6.9', 'wgustm': '-9999.0', 'wgusti': '-9999.0', 'wdird': '130', 'wdire': 'SE', 'vism': '16.1', 'visi': '10.0', 'pressurem': '1019.5', 'pressurei': '30.11', 'windchillm': '-999', 'windchilli': '-999', 'heatindexm': '-9999', 'heatindexi': '-9999', 'precipm': '-9999.00', 'precipi': '-9999.00', 'conds': 'Overcast', 'icon': 'cloudy', 'fog': '0', 'rain': '0', 'snow': '0', 'hail': '0', 'thunder': '0', 'tornado': '0', 'metar': 'METAR KLNK 161254Z 13006KT 10SM SCT025 OVC037 11/07 A3011 RMK AO2 SLP195 T01060067'}, {'date': {'pretty': '8:54 AM CDT on May 16, 2016', 'year': '2016', 'mon': '05', 'mday': '16', 'hour': '08', 'min': '54', 'tzname': 'America/Chicago'}, 'utcdate': {'pretty': '1:54 PM GMT on May 16, 2016', 'year': '2016', 'mon': '05', 'mday': '16', 'hour': '13', 'min': '54', 'tzname': 'UTC'}, 'tempm': '10.6', 'tempi': '51.1', 'dewptm': '7.8', 'dewpti': '46.0', 'hum': '83', 'wspdm': '16.7', 'wspdi': '10.4', 'wgustm': '-9999.0', 'wgusti': '-9999.0', 'wdird': '130', 'wdire': 'SE', 'vism': '14.5', 'visi': '9.0', 'pressurem': '1019.5', 'pressurei': '30.11', 'windchillm': '-999', 'windchilli': '-999', 'heatindexm': '-9999', 'heatindexi': '-9999', 'precipm': '0.3', 'precipi': '0.01', 'conds': 'Overcast', 'icon': 'cloudy', 'fog': '0', 'rain': '0', 'snow': '0', 'hail': '0', 'thunder': '0', 'tornado': '0', 'metar': 'METAR KLNK 161354Z 13009KT 9SM BKN036 OVC048 11/08 A3011 RMK AO2 RAB01E49 SLP195 P0001 T01060078'}, {'date': {'pretty': '9:19 AM CDT on May 16, 2016', 'year': '2016', 'mon': '05', 'mday': '16', 'hour': '09', 'min': '19', 'tzname': 'America/Chicago'}, 'utcdate': {'pretty': '2:19 PM GMT on May 16, 2016', 'year': '2016', 'mon': '05', 'mday': '16', 'hour': '14', 'min': '19', 'tzname': 'UTC'}, 'tempm': '10.6', 'tempi': '51.1', 'dewptm': '7.8', 'dewpti': '46.0', 'hum': '83', 'wspdm': '13.0', 'wspdi': '8.1', 'wgustm': '-9999.0', 'wgusti': '-9999.0', 'wdird': '120', 'wdire': 'ESE', 'vism': '14.5', 'visi': '9.0', 'pressurem': '1019.5', 'pressurei': '30.11', 'windchillm': '-999', 'windchilli': '-999', 'heatindexm': '-9999', 'heatindexi': '-9999', 'precipm': '0.0', 'precipi': '0.00', 'conds': 'Light Rain', 'icon': 'rain', 'fog': '0', 'rain': '1', 'snow': '0', 'hail': '0', 'thunder': '0', 'tornado': '0', 'metar': 'SPECI KLNK 161419Z 12007KT 9SM -RA BKN013 OVC036 11/08 A3011 RMK AO2 RAB05 P0000 T01060078'}, {'date': {'pretty': '9:54 AM CDT on May 16, 2016', 'year': '2016', 'mon': '05', 'mday': '16', 'hour': '09', 'min': '54', 'tzname': 'America/Chicago'}, 'utcdate': {'pretty': '2:54 PM GMT on May 16, 2016', 'year': '2016', 'mon': '05', 'mday': '16', 'hour': '14', 'min': '54', 'tzname': 'UTC'}, 'tempm': '10.6', 'tempi': '51.1', 'dewptm': '8.3', 'dewpti': '46.9', 'hum': '86', 'wspdm': '9.3', 'wspdi': '5.8', 'wgustm': '-9999.0', 'wgusti': '-9999.0', 'wdird': '110', 'wdire': 'ESE', 'vism': '8.0', 'visi': '5.0', 'pressurem': '1019.7', 'pressurei': '30.12', 'windchillm': '-999', 'windchilli': '-999', 'heatindexm': '-9999', 'heatindexi': '-9999', 'precipm': '0.0', 'precipi': '0.00', 'conds': 'Light Rain', 'icon': 'rain', 'fog': '0', 'rain': '1', 'snow': '0', 'hail': '0', 'thunder': '0', 'tornado': '0', 'metar': 'METAR KLNK 161454Z 11005KT 5SM -RA BR BKN013 OVC035 11/08 A3011 RMK AO2 RAB05 SLP197 P0000 60001 T01060083 52003'}, {'date': {'pretty': '10:54 AM CDT on May 16, 2016', 'year': '2016', 'mon': '05', 'mday': '16', 'hour': '10', 'min': '54', 'tzname': 'America/Chicago'}, 'utcdate': {'pretty': '3:54 PM GMT on May 16, 2016', 'year': '2016', 'mon': '05', 'mday': '16', 'hour': '15', 'min': '54', 'tzname': 'UTC'}, 'tempm': '10.6', 'tempi': '51.1', 'dewptm': '8.9', 'dewpti': '48.0', 'hum': '89', 'wspdm': '9.3', 'wspdi': '5.8', 'wgustm': '-9999.0', 'wgusti': '-9999.0', 'wdird': '100', 'wdire': 'East', 'vism': '4.8', 'visi': '3.0', 'pressurem': '1020.1', 'pressurei': '30.13', 'windchillm': '-999', 'windchilli': '-999', 'heatindexm': '-9999', 'heatindexi': '-9999', 'precipm': '1.5', 'precipi': '0.06', 'conds': 'Light Rain', 'icon': 'rain', 'fog': '0', 'rain': '1', 'snow': '0', 'hail': '0', 'thunder': '0', 'tornado': '0', 'metar': 'METAR KLNK 161554Z 10005KT 3SM -RA BR FEW009 BKN013 OVC020 11/09 A3012 RMK AO2 SLP201 P0006 T01060089'}, {'date': {'pretty': '11:07 AM CDT on May 16, 2016', 'year': '2016', 'mon': '05', 'mday': '16', 'hour': '11', 'min': '07', 'tzname': 'America/Chicago'}, 'utcdate': {'pretty': '4:07 PM GMT on May 16, 2016', 'year': '2016', 'mon': '05', 'mday': '16', 'hour': '16', 'min': '07', 'tzname': 'UTC'}, 'tempm': '10.6', 'tempi': '51.1', 'dewptm': '8.9', 'dewpti': '48.0', 'hum': '89', 'wspdm': '9.3', 'wspdi': '5.8', 'wgustm': '-9999.0', 'wgusti': '-9999.0', 'wdird': '80', 'wdire': 'East', 'vism': '4.8', 'visi': '3.0', 'pressurem': '1019.9', 'pressurei': '30.12', 'windchillm': '-999', 'windchilli': '-999', 'heatindexm': '-9999', 'heatindexi': '-9999', 'precipm': '0.5', 'precipi': '0.02', 'conds': 'Rain', 'icon': 'rain', 'fog': '0', 'rain': '1', 'snow': '0', 'hail': '0', 'thunder': '0', 'tornado': '0', 'metar': 'SPECI KLNK 161607Z 08005KT 3SM RA BR FEW009 BKN020 OVC037 11/09 A3012 RMK AO2 P0002 T01060089'}, {'date': {'pretty': '11:11 AM CDT on May 16, 2016', 'year': '2016', 'mon': '05', 'mday': '16', 'hour': '11', 'min': '11', 'tzname': 'America/Chicago'}, 'utcdate': {'pretty': '4:11 PM GMT on May 16, 2016', 'year': '2016', 'mon': '05', 'mday': '16', 'hour': '16', 'min': '11', 'tzname': 'UTC'}, 'tempm': '10.6', 'tempi': '51.1', 'dewptm': '9.4', 'dewpti': '48.9', 'hum': '92', 'wspdm': '13.0', 'wspdi': '8.1', 'wgustm': '-9999.0', 'wgusti': '-9999.0', 'wdird': '80', 'wdire': 'East', 'vism': '4.8', 'visi': '3.0', 'pressurem': '1019.9', 'pressurei': '30.12', 'windchillm': '-999', 'windchilli': '-999', 'heatindexm': '-9999', 'heatindexi': '-9999', 'precipm': '0.8', 'precipi': '0.03', 'conds': 'Rain', 'icon': 'rain', 'fog': '0', 'rain': '1', 'snow': '0', 'hail': '0', 'thunder': '0', 'tornado': '0', 'metar': 'SPECI KLNK 161611Z 08007KT 3SM RA BR FEW009 BKN014 OVC035 11/09 A3012 RMK AO2 P0003 T01060094'}, {'date': {'pretty': '11:20 AM CDT on May 16, 2016', 'year': '2016', 'mon': '05', 'mday': '16', 'hour': '11', 'min': '20', 'tzname': 'America/Chicago'}, 'utcdate': {'pretty': '4:20 PM GMT on May 16, 2016', 'year': '2016', 'mon': '05', 'mday': '16', 'hour': '16', 'min': '20', 'tzname': 'UTC'}, 'tempm': '10.6', 'tempi': '51.1', 'dewptm': '9.4', 'dewpti': '48.9', 'hum': '92', 'wspdm': '11.1', 'wspdi': '6.9', 'wgustm': '-9999.0', 'wgusti': '-9999.0', 'wdird': '70', 'wdire': 'ENE', 'vism': '4.8', 'visi': '3.0', 'pressurem': '1019.9', 'pressurei': '30.12', 'windchillm': '-999', 'windchilli': '-999', 'heatindexm': '-9999', 'heatindexi': '-9999', 'precipm': '1.3', 'precipi': '0.05', 'conds': 'Light Rain', 'icon': 'rain', 'fog': '0', 'rain': '1', 'snow': '0', 'hail': '0', 'thunder': '0', 'tornado': '0', 'metar': 'SPECI KLNK 161620Z 07006KT 3SM -RA BR FEW007 BKN016 OVC021 11/09 A3012 RMK AO2 P0005 T01060094'}, {'date': {'pretty': '11:54 AM CDT on May 16, 2016', 'year': '2016', 'mon': '05', 'mday': '16', 'hour': '11', 'min': '54', 'tzname': 'America/Chicago'}, 'utcdate': {'pretty': '4:54 PM GMT on May 16, 2016', 'year': '2016', 'mon': '05', 'mday': '16', 'hour': '16', 'min': '54', 'tzname': 'UTC'}, 'tempm': '10.6', 'tempi': '51.1', 'dewptm': '9.4', 'dewpti': '48.9', 'hum': '92', 'wspdm': '14.8', 'wspdi': '9.2', 'wgustm': '-9999.0', 'wgusti': '-9999.0', 'wdird': '80', 'wdire': 'East', 'vism': '4.8', 'visi': '3.0', 'pressurem': '1020.1', 'pressurei': '30.13', 'windchillm': '-999', 'windchilli': '-999', 'heatindexm': '-9999', 'heatindexi': '-9999', 'precipm': '2.0', 'precipi': '0.08', 'conds': 'Light Rain', 'icon': 'rain', 'fog': '0', 'rain': '1', 'snow': '0', 'hail': '0', 'thunder': '0', 'tornado': '0', 'metar': 'METAR KLNK 161654Z 08008KT 3SM -RA BR SCT008 BKN015 OVC020 11/09 A3012 RMK AO2 SLP201 P0008 T01060094'}, {'date': {'pretty': '12:03 PM CDT on May 16, 2016', 'year': '2016', 'mon': '05', 'mday': '16', 'hour': '12', 'min': '03', 'tzname': 'America/Chicago'}, 'utcdate': {'pretty': '5:03 PM GMT on May 16, 2016', 'year': '2016', 'mon': '05', 'mday': '16', 'hour': '17', 'min': '03', 'tzname': 'UTC'}, 'tempm': '11.1', 'tempi': '52.0', 'dewptm': '10.0', 'dewpti': '50.0', 'hum': '93', 'wspdm': '14.8', 'wspdi': '9.2', 'wgustm': '-9999.0', 'wgusti': '-9999.0', 'wdird': '70', 'wdire': 'ENE', 'vism': '6.4', 'visi': '4.0', 'pressurem': '1019.9', 'pressurei': '30.12', 'windchillm': '-999', 'windchilli': '-999', 'heatindexm': '-9999', 'heatindexi': '-9999', 'precipm': '0.0', 'precipi': '0.00', 'conds': 'Light Rain', 'icon': 'rain', 'fog': '0', 'rain': '1', 'snow': '0', 'hail': '0', 'thunder': '0', 'tornado': '0', 'metar': 'SPECI KLNK 161703Z 07008KT 4SM -RA BR FEW008 BKN012 OVC055 11/10 A3012 RMK AO2 P0000 T01110100'}, {'date': {'pretty': '12:24 PM CDT on May 16, 2016', 'year': '2016', 'mon': '05', 'mday': '16', 'hour': '12', 'min': '24', 'tzname': 'America/Chicago'}, 'utcdate': {'pretty': '5:24 PM GMT on May 16, 2016', 'year': '2016', 'mon': '05', 'mday': '16', 'hour': '17', 'min': '24', 'tzname': 'UTC'}, 'tempm': '11.1', 'tempi': '52.0', 'dewptm': '9.4', 'dewpti': '48.9', 'hum': '89', 'wspdm': '14.8', 'wspdi': '9.2', 'wgustm': '-9999.0', 'wgusti': '-9999.0', 'wdird': '60', 'wdire': 'ENE', 'vism': '8.0', 'visi': '5.0', 'pressurem': '1019.5', 'pressurei': '30.11', 'windchillm': '-999', 'windchilli': '-999', 'heatindexm': '-9999', 'heatindexi': '-9999', 'precipm': '0.3', 'precipi': '0.01', 'conds': 'Light Rain', 'icon': 'rain', 'fog': '0', 'rain': '1', 'snow': '0', 'hail': '0', 'thunder': '0', 'tornado': '0', 'metar': 'SPECI KLNK 161724Z 06008KT 5SM -RA BR SCT011 BKN041 OVC060 11/09 A3011 RMK AO2 P0001 T01110094'}, {'date': {'pretty': '12:46 PM CDT on May 16, 2016', 'year': '2016', 'mon': '05', 'mday': '16', 'hour': '12', 'min': '46', 'tzname': 'America/Chicago'}, 'utcdate': {'pretty': '5:46 PM GMT on May 16, 2016', 'year': '2016', 'mon': '05', 'mday': '16', 'hour': '17', 'min': '46', 'tzname': 'UTC'}, 'tempm': '11.1', 'tempi': '52.0', 'dewptm': '9.4', 'dewpti': '48.9', 'hum': '89', 'wspdm': '16.7', 'wspdi': '10.4', 'wgustm': '-9999.0', 'wgusti': '-9999.0', 'wdird': '60', 'wdire': 'ENE', 'vism': '6.4', 'visi': '4.0', 'pressurem': '1019.5', 'pressurei': '30.11', 'windchillm': '-999', 'windchilli': '-999', 'heatindexm': '-9999', 'heatindexi': '-9999', 'precipm': '0.8', 'precipi': '0.03', 'conds': 'Light Rain', 'icon': 'rain', 'fog': '0', 'rain': '1', 'snow': '0', 'hail': '0', 'thunder': '0', 'tornado': '0', 'metar': 'SPECI KLNK 161746Z 06009KT 4SM -RA BR SCT011 BKN019 OVC055 11/09 A3011 RMK AO2 P0003 T01110094'}, {'date': {'pretty': '12:54 PM CDT on May 16, 2016', 'year': '2016', 'mon': '05', 'mday': '16', 'hour': '12', 'min': '54', 'tzname': 'America/Chicago'}, 'utcdate': {'pretty': '5:54 PM GMT on May 16, 2016', 'year': '2016', 'mon': '05', 'mday': '16', 'hour': '17', 'min': '54', 'tzname': 'UTC'}, 'tempm': '11.1', 'tempi': '52.0', 'dewptm': '9.4', 'dewpti': '48.9', 'hum': '89', 'wspdm': '14.8', 'wspdi': '9.2', 'wgustm': '-9999.0', 'wgusti': '-9999.0', 'wdird': '70', 'wdire': 'ENE', 'vism': '4.8', 'visi': '3.0', 'pressurem': '1019.8', 'pressurei': '30.12', 'windchillm': '-999', 'windchilli': '-999', 'heatindexm': '-9999', 'heatindexi': '-9999', 'precipm': '1.0', 'precipi': '0.04', 'conds': 'Light Rain', 'icon': 'rain', 'fog': '0', 'rain': '1', 'snow': '0', 'hail': '0', 'thunder': '0', 'tornado': '0', 'metar': 'METAR KLNK 161754Z 07008KT 3SM -RA BR SCT009 BKN015 OVC055 11/09 A3011 RMK AO2 SLP198 P0004 60019 T01110094 10111 20100 50000'}, {'date': {'pretty': '1:35 PM CDT on May 16, 2016', 'year': '2016', 'mon': '05', 'mday': '16', 'hour': '13', 'min': '35', 'tzname': 'America/Chicago'}, 'utcdate': {'pretty': '6:35 PM GMT on May 16, 2016', 'year': '2016', 'mon': '05', 'mday': '16', 'hour': '18', 'min': '35', 'tzname': 'UTC'}, 'tempm': '11.1', 'tempi': '52.0', 'dewptm': '10.0', 'dewpti': '50.0', 'hum': '93', 'wspdm': '18.5', 'wspdi': '11.5', 'wgustm': '-9999.0', 'wgusti': '-9999.0', 'wdird': '60', 'wdire': 'ENE', 'vism': '8.0', 'visi': '5.0', 'pressurem': '1019.5', 'pressurei': '30.11', 'windchillm': '-999', 'windchilli': '-999', 'heatindexm': '-9999', 'heatindexi': '-9999', 'precipm': '1.0', 'precipi': '0.04', 'conds': 'Light Rain', 'icon': 'rain', 'fog': '0', 'rain': '1', 'snow': '0', 'hail': '0', 'thunder': '0', 'tornado': '0', 'metar': 'SPECI KLNK 161835Z 06010KT 5SM -RA BR FEW012 BKN060 OVC070 11/10 A3011 RMK AO2 P0004 T01110100'}, {'date': {'pretty': '1:54 PM CDT on May 16, 2016', 'year': '2016', 'mon': '05', 'mday': '16', 'hour': '13', 'min': '54', 'tzname': 'America/Chicago'}, 'utcdate': {'pretty': '6:54 PM GMT on May 16, 2016', 'year': '2016', 'mon': '05', 'mday': '16', 'hour': '18', 'min': '54', 'tzname': 'UTC'}, 'tempm': '11.1', 'tempi': '52.0', 'dewptm': '9.4', 'dewpti': '48.9', 'hum': '89', 'wspdm': '18.5', 'wspdi': '11.5', 'wgustm': '-9999.0', 'wgusti': '-9999.0', 'wdird': '60', 'wdire': 'ENE', 'vism': '8.0', 'visi': '5.0', 'pressurem': '1019.5', 'pressurei': '30.11', 'windchillm': '-999', 'windchilli': '-999', 'heatindexm': '-9999', 'heatindexi': '-9999', 'precipm': '1.3', 'precipi': '0.05', 'conds': 'Light Rain', 'icon': 'rain', 'fog': '0', 'rain': '1', 'snow': '0', 'hail': '0', 'thunder': '0', 'tornado': '0', 'metar': 'METAR KLNK 161854Z 06010KT 5SM -RA BR FEW010 OVC065 11/09 A3010 RMK AO2 SLP195 P0005 T01110094'}, {'date': {'pretty': '2:01 PM CDT on May 16, 2016', 'year': '2016', 'mon': '05', 'mday': '16', 'hour': '14', 'min': '01', 'tzname': 'America/Chicago'}, 'utcdate': {'pretty': '7:01 PM GMT on May 16, 2016', 'year': '2016', 'mon': '05', 'mday': '16', 'hour': '19', 'min': '01', 'tzname': 'UTC'}, 'tempm': '11.1', 'tempi': '52.0', 'dewptm': '9.4', 'dewpti': '48.9', 'hum': '89', 'wspdm': '18.5', 'wspdi': '11.5', 'wgustm': '-9999.0', 'wgusti': '-9999.0', 'wdird': '60', 'wdire': 'ENE', 'vism': '6.4', 'visi': '4.0', 'pressurem': '1019.5', 'pressurei': '30.11', 'windchillm': '-999', 'windchilli': '-999', 'heatindexm': '-9999', 'heatindexi': '-9999', 'precipm': '0.0', 'precipi': '0.00', 'conds': 'Light Rain', 'icon': 'rain', 'fog': '0', 'rain': '1', 'snow': '0', 'hail': '0', 'thunder': '0', 'tornado': '0', 'metar': 'SPECI KLNK 161901Z 06010KT 4SM -RA BR FEW008 SCT065 OVC075 11/09 A3011 RMK AO2 P0000 T01110094'}, {'date': {'pretty': '2:54 PM CDT on May 16, 2016', 'year': '2016', 'mon': '05', 'mday': '16', 'hour': '14', 'min': '54', 'tzname': 'America/Chicago'}, 'utcdate': {'pretty': '7:54 PM GMT on May 16, 2016', 'year': '2016', 'mon': '05', 'mday': '16', 'hour': '19', 'min': '54', 'tzname': 'UTC'}, 'tempm': '11.7', 'tempi': '53.1', 'dewptm': '9.4', 'dewpti': '48.9', 'hum': '86', 'wspdm': '22.2', 'wspdi': '13.8', 'wgustm': '-9999.0', 'wgusti': '-9999.0', 'wdird': '60', 'wdire': 'ENE', 'vism': '6.4', 'visi': '4.0', 'pressurem': '1019.6', 'pressurei': '30.11', 'windchillm': '-999', 'windchilli': '-999', 'heatindexm': '-9999', 'heatindexi': '-9999', 'precipm': '0.8', 'precipi': '0.03', 'conds': 'Light Rain', 'icon': 'rain', 'fog': '0', 'rain': '1', 'snow': '0', 'hail': '0', 'thunder': '0', 'tornado': '0', 'metar': 'METAR KLNK 161954Z 06012KT 4SM -RA BR FEW009 BKN060 OVC075 12/09 A3011 RMK AO2 SLP196 P0003 T01170094'}, {'date': {'pretty': '3:04 PM CDT on May 16, 2016', 'year': '2016', 'mon': '05', 'mday': '16', 'hour': '15', 'min': '04', 'tzname': 'America/Chicago'}, 'utcdate': {'pretty': '8:04 PM GMT on May 16, 2016', 'year': '2016', 'mon': '05', 'mday': '16', 'hour': '20', 'min': '04', 'tzname': 'UTC'}, 'tempm': '11.7', 'tempi': '53.1', 'dewptm': '8.9', 'dewpti': '48.0', 'hum': '83', 'wspdm': '24.1', 'wspdi': '15.0', 'wgustm': '-9999.0', 'wgusti': '-9999.0', 'wdird': '60', 'wdire': 'ENE', 'vism': '6.4', 'visi': '4.0', 'pressurem': '1019.5', 'pressurei': '30.11', 'windchillm': '-999', 'windchilli': '-999', 'heatindexm': '-9999', 'heatindexi': '-9999', 'precipm': '0.0', 'precipi': '0.00', 'conds': 'Light Rain', 'icon': 'rain', 'fog': '0', 'rain': '1', 'snow': '0', 'hail': '0', 'thunder': '0', 'tornado': '0', 'metar': 'SPECI KLNK 162004Z 06013KT 4SM -RA FEW012 BKN018 OVC070 12/09 A3011 RMK AO2 P0000 T01170089'}, {'date': {'pretty': '3:13 PM CDT on May 16, 2016', 'year': '2016', 'mon': '05', 'mday': '16', 'hour': '15', 'min': '13', 'tzname': 'America/Chicago'}, 'utcdate': {'pretty': '8:13 PM GMT on May 16, 2016', 'year': '2016', 'mon': '05', 'mday': '16', 'hour': '20', 'min': '13', 'tzname': 'UTC'}, 'tempm': '11.7', 'tempi': '53.1', 'dewptm': '10.0', 'dewpti': '50.0', 'hum': '89', 'wspdm': '20.4', 'wspdi': '12.7', 'wgustm': '-9999.0', 'wgusti': '-9999.0', 'wdird': '60', 'wdire': 'ENE', 'vism': '8.0', 'visi': '5.0', 'pressurem': '1019.2', 'pressurei': '30.10', 'windchillm': '-999', 'windchilli': '-999', 'heatindexm': '-9999', 'heatindexi': '-9999', 'precipm': '0.3', 'precipi': '0.01', 'conds': 'Light Rain', 'icon': 'rain', 'fog': '0', 'rain': '1', 'snow': '0', 'hail': '0', 'thunder': '0', 'tornado': '0', 'metar': 'SPECI KLNK 162013Z 06011KT 5SM -RA BR SCT015 BKN024 OVC070 12/10 A3010 RMK AO2 P0001 T01170100'}, {'date': {'pretty': '3:54 PM CDT on May 16, 2016', 'year': '2016', 'mon': '05', 'mday': '16', 'hour': '15', 'min': '54', 'tzname': 'America/Chicago'}, 'utcdate': {'pretty': '8:54 PM GMT on May 16, 2016', 'year': '2016', 'mon': '05', 'mday': '16', 'hour': '20', 'min': '54', 'tzname': 'UTC'}, 'tempm': '11.7', 'tempi': '53.1', 'dewptm': '8.9', 'dewpti': '48.0', 'hum': '83', 'wspdm': '27.8', 'wspdi': '17.3', 'wgustm': '-9999.0', 'wgusti': '-9999.0', 'wdird': '70', 'wdire': 'ENE', 'vism': '16.1', 'visi': '10.0', 'pressurem': '1019.1', 'pressurei': '30.10', 'windchillm': '-999', 'windchilli': '-999', 'heatindexm': '-9999', 'heatindexi': '-9999', 'precipm': '0.3', 'precipi': '0.01', 'conds': 'Light Rain', 'icon': 'rain', 'fog': '0', 'rain': '1', 'snow': '0', 'hail': '0', 'thunder': '0', 'tornado': '0', 'metar': 'METAR KLNK 162054Z 07015KT 10SM -RA BKN014 BKN021 OVC029 12/09 A3009 RMK AO2 SLP191 P0001 60009 T01170089 58004'}, {'date': {'pretty': '4:06 PM CDT on May 16, 2016', 'year': '2016', 'mon': '05', 'mday': '16', 'hour': '16', 'min': '06', 'tzname': 'America/Chicago'}, 'utcdate': {'pretty': '9:06 PM GMT on May 16, 2016', 'year': '2016', 'mon': '05', 'mday': '16', 'hour': '21', 'min': '06', 'tzname': 'UTC'}, 'tempm': '11.7', 'tempi': '53.1', 'dewptm': '8.9', 'dewpti': '48.0', 'hum': '83', 'wspdm': '25.9', 'wspdi': '16.1', 'wgustm': '-9999.0', 'wgusti': '-9999.0', 'wdird': '70', 'wdire': 'ENE', 'vism': '16.1', 'visi': '10.0', 'pressurem': '1018.8', 'pressurei': '30.09', 'windchillm': '-999', 'windchilli': '-999', 'heatindexm': '-9999', 'heatindexi': '-9999', 'precipm': '0.0', 'precipi': '0.00', 'conds': 'Light Rain', 'icon': 'rain', 'fog': '0', 'rain': '1', 'snow': '0', 'hail': '0', 'thunder': '0', 'tornado': '0', 'metar': 'SPECI KLNK 162106Z 07014KT 10SM -RA SCT014 BKN023 OVC031 12/09 A3009 RMK AO2 P0000 T01170089'}, {'date': {'pretty': '4:36 PM CDT on May 16, 2016', 'year': '2016', 'mon': '05', 'mday': '16', 'hour': '16', 'min': '36', 'tzname': 'America/Chicago'}, 'utcdate': {'pretty': '9:36 PM GMT on May 16, 2016', 'year': '2016', 'mon': '05', 'mday': '16', 'hour': '21', 'min': '36', 'tzname': 'UTC'}, 'tempm': '11.7', 'tempi': '53.1', 'dewptm': '9.4', 'dewpti': '48.9', 'hum': '86', 'wspdm': '20.4', 'wspdi': '12.7', 'wgustm': '-9999.0', 'wgusti': '-9999.0', 'wdird': '70', 'wdire': 'ENE', 'vism': '16.1', 'visi': '10.0', 'pressurem': '1018.8', 'pressurei': '30.09', 'windchillm': '-999', 'windchilli': '-999', 'heatindexm': '-9999', 'heatindexi': '-9999', 'precipm': '0.0', 'precipi': '0.00', 'conds': 'Overcast', 'icon': 'cloudy', 'fog': '0', 'rain': '0', 'snow': '0', 'hail': '0', 'thunder': '0', 'tornado': '0', 'metar': 'SPECI KLNK 162136Z 07011KT 10SM BKN014 OVC026 12/09 A3009 RMK AO2 RAE08 P0000 T01170094'}, {'date': {'pretty': '4:54 PM CDT on May 16, 2016', 'year': '2016', 'mon': '05', 'mday': '16', 'hour': '16', 'min': '54', 'tzname': 'America/Chicago'}, 'utcdate': {'pretty': '9:54 PM GMT on May 16, 2016', 'year': '2016', 'mon': '05', 'mday': '16', 'hour': '21', 'min': '54', 'tzname': 'UTC'}, 'tempm': '11.7', 'tempi': '53.1', 'dewptm': '9.4', 'dewpti': '48.9', 'hum': '86', 'wspdm': '20.4', 'wspdi': '12.7', 'wgustm': '-9999.0', 'wgusti': '-9999.0', 'wdird': '80', 'wdire': 'East', 'vism': '16.1', 'visi': '10.0', 'pressurem': '1018.7', 'pressurei': '30.09', 'windchillm': '-999', 'windchilli': '-999', 'heatindexm': '-9999', 'heatindexi': '-9999', 'precipm': '0.0', 'precipi': '0.00', 'conds': 'Overcast', 'icon': 'cloudy', 'fog': '0', 'rain': '0', 'snow': '0', 'hail': '0', 'thunder': '0', 'tornado': '0', 'metar': 'METAR KLNK 162154Z 08011KT 10SM SCT016 OVC023 12/09 A3008 RMK AO2 RAE08 SLP187 P0000 T01170094'}, {'date': {'pretty': '5:03 PM CDT on May 16, 2016', 'year': '2016', 'mon': '05', 'mday': '16', 'hour': '17', 'min': '03', 'tzname': 'America/Chicago'}, 'utcdate': {'pretty': '10:03 PM GMT on May 16, 2016', 'year': '2016', 'mon': '05', 'mday': '16', 'hour': '22', 'min': '03', 'tzname': 'UTC'}, 'tempm': '11.7', 'tempi': '53.1', 'dewptm': '8.9', 'dewpti': '48.0', 'hum': '83', 'wspdm': '25.9', 'wspdi': '16.1', 'wgustm': '-9999.0', 'wgusti': '-9999.0', 'wdird': '70', 'wdire': 'ENE', 'vism': '16.1', 'visi': '10.0', 'pressurem': '1018.5', 'pressurei': '30.08', 'windchillm': '-999', 'windchilli': '-999', 'heatindexm': '-9999', 'heatindexi': '-9999', 'precipm': '-9999.00', 'precipi': '-9999.00', 'conds': 'Overcast', 'icon': 'cloudy', 'fog': '0', 'rain': '0', 'snow': '0', 'hail': '0', 'thunder': '0', 'tornado': '0', 'metar': 'SPECI KLNK 162203Z 07014KT 10SM BKN016 BKN023 OVC030 12/09 A3008 RMK AO2 T01170089'}, {'date': {'pretty': '5:54 PM CDT on May 16, 2016', 'year': '2016', 'mon': '05', 'mday': '16', 'hour': '17', 'min': '54', 'tzname': 'America/Chicago'}, 'utcdate': {'pretty': '10:54 PM GMT on May 16, 2016', 'year': '2016', 'mon': '05', 'mday': '16', 'hour': '22', 'min': '54', 'tzname': 'UTC'}, 'tempm': '12.2', 'tempi': '54.0', 'dewptm': '8.9', 'dewpti': '48.0', 'hum': '80', 'wspdm': '16.7', 'wspdi': '10.4', 'wgustm': '-9999.0', 'wgusti': '-9999.0', 'wdird': '100', 'wdire': 'East', 'vism': '16.1', 'visi': '10.0', 'pressurem': '1018.9', 'pressurei': '30.09', 'windchillm': '-999', 'windchilli': '-999', 'heatindexm': '-9999', 'heatindexi': '-9999', 'precipm': '-9999.00', 'precipi': '-9999.00', 'conds': 'Overcast', 'icon': 'cloudy', 'fog': '0', 'rain': '0', 'snow': '0', 'hail': '0', 'thunder': '0', 'tornado': '0', 'metar': 'METAR KLNK 162254Z 10009KT 10SM SCT017 OVC026 12/09 A3009 RMK AO2 SLP189 T01220089'}, {'date': {'pretty': '6:15 PM CDT on May 16, 2016', 'year': '2016', 'mon': '05', 'mday': '16', 'hour': '18', 'min': '15', 'tzname': 'America/Chicago'}, 'utcdate': {'pretty': '11:15 PM GMT on May 16, 2016', 'year': '2016', 'mon': '05', 'mday': '16', 'hour': '23', 'min': '15', 'tzname': 'UTC'}, 'tempm': '12.2', 'tempi': '54.0', 'dewptm': '8.9', 'dewpti': '48.0', 'hum': '80', 'wspdm': '18.5', 'wspdi': '11.5', 'wgustm': '-9999.0', 'wgusti': '-9999.0', 'wdird': '80', 'wdire': 'East', 'vism': '16.1', 'visi': '10.0', 'pressurem': '1018.8', 'pressurei': '30.09', 'windchillm': '-999', 'windchilli': '-999', 'heatindexm': '-9999', 'heatindexi': '-9999', 'precipm': '-9999.00', 'precipi': '-9999.00', 'conds': 'Overcast', 'icon': 'cloudy', 'fog': '0', 'rain': '0', 'snow': '0', 'hail': '0', 'thunder': '0', 'tornado': '0', 'metar': 'SPECI KLNK 162315Z 08010KT 10SM BKN017 OVC026 12/09 A3009 RMK AO2 T01220089'}, {'date': {'pretty': '6:54 PM CDT on May 16, 2016', 'year': '2016', 'mon': '05', 'mday': '16', 'hour': '18', 'min': '54', 'tzname': 'America/Chicago'}, 'utcdate': {'pretty': '11:54 PM GMT on May 16, 2016', 'year': '2016', 'mon': '05', 'mday': '16', 'hour': '23', 'min': '54', 'tzname': 'UTC'}, 'tempm': '12.2', 'tempi': '54.0', 'dewptm': '8.9', 'dewpti': '48.0', 'hum': '80', 'wspdm': '18.5', 'wspdi': '11.5', 'wgustm': '-9999.0', 'wgusti': '-9999.0', 'wdird': '70', 'wdire': 'ENE', 'vism': '16.1', 'visi': '10.0', 'pressurem': '1019.2', 'pressurei': '30.10', 'windchillm': '-999', 'windchilli': '-999', 'heatindexm': '-9999', 'heatindexi': '-9999', 'precipm': '-9999.00', 'precipi': '-9999.00', 'conds': 'Overcast', 'icon': 'cloudy', 'fog': '0', 'rain': '0', 'snow': '0', 'hail': '0', 'thunder': '0', 'tornado': '0', 'metar': 'METAR KLNK 162354Z 07010KT 10SM BKN017 OVC026 12/09 A3010 RMK AO2 SLP192 60009 T01220089 10122 20111 53002'}, {'date': {'pretty': '7:03 PM CDT on May 16, 2016', 'year': '2016', 'mon': '05', 'mday': '16', 'hour': '19', 'min': '03', 'tzname': 'America/Chicago'}, 'utcdate': {'pretty': '12:03 AM GMT on May 17, 2016', 'year': '2016', 'mon': '05', 'mday': '17', 'hour': '00', 'min': '03', 'tzname': 'UTC'}, 'tempm': '12.2', 'tempi': '54.0', 'dewptm': '8.9', 'dewpti': '48.0', 'hum': '80', 'wspdm': '18.5', 'wspdi': '11.5', 'wgustm': '-9999.0', 'wgusti': '-9999.0', 'wdird': '80', 'wdire': 'East', 'vism': '16.1', 'visi': '10.0', 'pressurem': '1019.2', 'pressurei': '30.10', 'windchillm': '-999', 'windchilli': '-999', 'heatindexm': '-9999', 'heatindexi': '-9999', 'precipm': '-9999.00', 'precipi': '-9999.00', 'conds': 'Overcast', 'icon': 'cloudy', 'fog': '0', 'rain': '0', 'snow': '0', 'hail': '0', 'thunder': '0', 'tornado': '0', 'metar': 'SPECI KLNK 170003Z 08010KT 10SM SCT017 OVC026 12/09 A3010 RMK AO2 T01220089'}, {'date': {'pretty': '7:54 PM CDT on May 16, 2016', 'year': '2016', 'mon': '05', 'mday': '16', 'hour': '19', 'min': '54', 'tzname': 'America/Chicago'}, 'utcdate': {'pretty': '12:54 AM GMT on May 17, 2016', 'year': '2016', 'mon': '05', 'mday': '17', 'hour': '00', 'min': '54', 'tzname': 'UTC'}, 'tempm': '12.2', 'tempi': '54.0', 'dewptm': '8.9', 'dewpti': '48.0', 'hum': '80', 'wspdm': '16.7', 'wspdi': '10.4', 'wgustm': '-9999.0', 'wgusti': '-9999.0', 'wdird': '60', 'wdire': 'ENE', 'vism': '16.1', 'visi': '10.0', 'pressurem': '1019.6', 'pressurei': '30.11', 'windchillm': '-999', 'windchilli': '-999', 'heatindexm': '-9999', 'heatindexi': '-9999', 'precipm': '-9999.00', 'precipi': '-9999.00', 'conds': 'Overcast', 'icon': 'cloudy', 'fog': '0', 'rain': '0', 'snow': '0', 'hail': '0', 'thunder': '0', 'tornado': '0', 'metar': 'METAR KLNK 170054Z 06009KT 10SM FEW019 OVC028 12/09 A3011 RMK AO2 SLP196 T01220089'}, {'date': {'pretty': '8:10 PM CDT on May 16, 2016', 'year': '2016', 'mon': '05', 'mday': '16', 'hour': '20', 'min': '10', 'tzname': 'America/Chicago'}, 'utcdate': {'pretty': '1:10 AM GMT on May 17, 2016', 'year': '2016', 'mon': '05', 'mday': '17', 'hour': '01', 'min': '10', 'tzname': 'UTC'}, 'tempm': '12.2', 'tempi': '54.0', 'dewptm': '8.9', 'dewpti': '48.0', 'hum': '80', 'wspdm': '16.7', 'wspdi': '10.4', 'wgustm': '-9999.0', 'wgusti': '-9999.0', 'wdird': '70', 'wdire': 'ENE', 'vism': '16.1', 'visi': '10.0', 'pressurem': '1019.5', 'pressurei': '30.11', 'windchillm': '-999', 'windchilli': '-999', 'heatindexm': '-9999', 'heatindexi': '-9999', 'precipm': '-9999.00', 'precipi': '-9999.00', 'conds': 'Overcast', 'icon': 'cloudy', 'fog': '0', 'rain': '0', 'snow': '0', 'hail': '0', 'thunder': '0', 'tornado': '0', 'metar': 'SPECI KLNK 170110Z 07009KT 10SM FEW019 OVC031 12/09 A3011 RMK AO2 T01220089'}, {'date': {'pretty': '8:54 PM CDT on May 16, 2016', 'year': '2016', 'mon': '05', 'mday': '16', 'hour': '20', 'min': '54', 'tzname': 'America/Chicago'}, 'utcdate': {'pretty': '1:54 AM GMT on May 17, 2016', 'year': '2016', 'mon': '05', 'mday': '17', 'hour': '01', 'min': '54', 'tzname': 'UTC'}, 'tempm': '11.7', 'tempi': '53.1', 'dewptm': '8.9', 'dewpti': '48.0', 'hum': '83', 'wspdm': '14.8', 'wspdi': '9.2', 'wgustm': '-9999.0', 'wgusti': '-9999.0', 'wdird': '70', 'wdire': 'ENE', 'vism': '16.1', 'visi': '10.0', 'pressurem': '1019.5', 'pressurei': '30.11', 'windchillm': '-999', 'windchilli': '-999', 'heatindexm': '-9999', 'heatindexi': '-9999', 'precipm': '-9999.00', 'precipi': '-9999.00', 'conds': 'Overcast', 'icon': 'cloudy', 'fog': '0', 'rain': '0', 'snow': '0', 'hail': '0', 'thunder': '0', 'tornado': '0', 'metar': 'METAR KLNK 170154Z 07008KT 10SM OVC037 12/09 A3010 RMK AO2 SLP195 T01170089'}, {'date': {'pretty': '9:54 PM CDT on May 16, 2016', 'year': '2016', 'mon': '05', 'mday': '16', 'hour': '21', 'min': '54', 'tzname': 'America/Chicago'}, 'utcdate': {'pretty': '2:54 AM GMT on May 17, 2016', 'year': '2016', 'mon': '05', 'mday': '17', 'hour': '02', 'min': '54', 'tzname': 'UTC'}, 'tempm': '10.6', 'tempi': '51.1', 'dewptm': '8.9', 'dewpti': '48.0', 'hum': '89', 'wspdm': '11.1', 'wspdi': '6.9', 'wgustm': '-9999.0', 'wgusti': '-9999.0', 'wdird': '60', 'wdire': 'ENE', 'vism': '16.1', 'visi': '10.0', 'pressurem': '1020.1', 'pressurei': '30.13', 'windchillm': '-999', 'windchilli': '-999', 'heatindexm': '-9999', 'heatindexi': '-9999', 'precipm': '-9999.00', 'precipi': '-9999.00', 'conds': 'Clear', 'icon': 'clear', 'fog': '0', 'rain': '0', 'snow': '0', 'hail': '0', 'thunder': '0', 'tornado': '0', 'metar': 'METAR KLNK 170254Z 06006KT 10SM CLR 11/09 A3012 RMK AO2 SLP201 T01060089 53008'}, {'date': {'pretty': '10:54 PM CDT on May 16, 2016', 'year': '2016', 'mon': '05', 'mday': '16', 'hour': '22', 'min': '54', 'tzname': 'America/Chicago'}, 'utcdate': {'pretty': '3:54 AM GMT on May 17, 2016', 'year': '2016', 'mon': '05', 'mday': '17', 'hour': '03', 'min': '54', 'tzname': 'UTC'}, 'tempm': '9.4', 'tempi': '48.9', 'dewptm': '7.8', 'dewpti': '46.0', 'hum': '90', 'wspdm': '11.1', 'wspdi': '6.9', 'wgustm': '-9999.0', 'wgusti': '-9999.0', 'wdird': '50', 'wdire': 'NE', 'vism': '16.1', 'visi': '10.0', 'pressurem': '1021.3', 'pressurei': '30.16', 'windchillm': '-999', 'windchilli': '-999', 'heatindexm': '-9999', 'heatindexi': '-9999', 'precipm': '-9999.00', 'precipi': '-9999.00', 'conds': 'Clear', 'icon': 'clear', 'fog': '0', 'rain': '0', 'snow': '0', 'hail': '0', 'thunder': '0', 'tornado': '0', 'metar': 'METAR KLNK 170354Z 05006KT 10SM CLR 09/08 A3015 RMK AO2 SLP213 T00940078'}, {'date': {'pretty': '11:54 PM CDT on May 16, 2016', 'year': '2016', 'mon': '05', 'mday': '16', 'hour': '23', 'min': '54', 'tzname': 'America/Chicago'}, 'utcdate': {'pretty': '4:54 AM GMT on May 17, 2016', 'year': '2016', 'mon': '05', 'mday': '17', 'hour': '04', 'min': '54', 'tzname': 'UTC'}, 'tempm': '9.4', 'tempi': '48.9', 'dewptm': '8.3', 'dewpti': '46.9', 'hum': '93', 'wspdm': '14.8', 'wspdi': '9.2', 'wgustm': '-9999.0', 'wgusti': '-9999.0', 'wdird': '360', 'wdire': 'North', 'vism': '16.1', 'visi': '10.0', 'pressurem': '1021.6', 'pressurei': '30.17', 'windchillm': '-999', 'windchilli': '-999', 'heatindexm': '-9999', 'heatindexi': '-9999', 'precipm': '-9999.00', 'precipi': '-9999.00', 'conds': 'Mostly Cloudy', 'icon': 'mostlycloudy', 'fog': '0', 'rain': '0', 'snow': '0', 'hail': '0', 'thunder': '0', 'tornado': '0', 'metar': 'METAR KLNK 170454Z 36008KT 10SM BKN013 09/08 A3016 RMK AO2 SLP216 T00940083'}], 'dailysummary': [{'date': {'pretty': '12:00 PM CDT on May 16, 2016', 'year': '2016', 'mon': '05', 'mday': '16', 'hour': '12', 'min': '00', 'tzname': 'America/Chicago'}, 'fog': '0', 'rain': '1', 'snow': '0', 'snowfallm': '0.00', 'snowfalli': '0.00', 'monthtodatesnowfallm': '0.00', 'monthtodatesnowfalli': '0.00', 'since1julsnowfallm': '52.07', 'since1julsnowfalli': '20.50', 'snowdepthm': '0.00', 'snowdepthi': '0.00', 'hail': '0', 'thunder': '0', 'tornado': '0', 'meantempm': '11', 'meantempi': '51', 'meandewptm': '8', 'meandewpti': '47', 'meanpressurem': '1020', 'meanpressurei': '30.11', 'meanwindspdm': '15', 'meanwindspdi': '9', 'meanwdire': '', 'meanwdird': '86', 'meanvism': '12', 'meanvisi': '8', 'humidity': '', 'maxtempm': '12', 'maxtempi': '54', 'mintempm': '9', 'mintempi': '48', 'maxhumidity': '93', 'minhumidity': '71', 'maxdewptm': '10', 'maxdewpti': '50', 'mindewptm': '6', 'mindewpti': '42', 'maxpressurem': '1022', 'maxpressurei': '30.17', 'minpressurem': '1019', 'minpressurei': '30.08', 'maxwspdm': '32', 'maxwspdi': '20', 'minwspdm': '0', 'minwspdi': '0', 'maxvism': '16', 'maxvisi': '10', 'minvism': '5', 'minvisi': '3', 'gdegreedays': '1', 'heatingdegreedays': '14', 'coolingdegreedays': '0', 'precipm': '7.11', 'precipi': '0.28', 'precipsource': '', 'heatingdegreedaysnormal': '5', 'monthtodateheatingdegreedays': '100', 'monthtodateheatingdegreedaysnormal': '105', 'since1sepheatingdegreedays': '', 'since1sepheatingdegreedaysnormal': '', 'since1julheatingdegreedays': '4853', 'since1julheatingdegreedaysnormal': '5998', 'coolingdegreedaysnormal': '2', 'monthtodatecoolingdegreedays': '9', 'monthtodatecoolingdegreedaysnormal': '21', 'since1sepcoolingdegreedays': '', 'since1sepcoolingdegreedaysnormal': '', 'since1jancoolingdegreedays': '18', 'since1jancoolingdegreedaysnormal': '35'}]}\n",
      "---------dailysummary-------------\n",
      "[{'date': {'pretty': '12:00 PM CDT on May 16, 2016', 'year': '2016', 'mon': '05', 'mday': '16', 'hour': '12', 'min': '00', 'tzname': 'America/Chicago'}, 'fog': '0', 'rain': '1', 'snow': '0', 'snowfallm': '0.00', 'snowfalli': '0.00', 'monthtodatesnowfallm': '0.00', 'monthtodatesnowfalli': '0.00', 'since1julsnowfallm': '52.07', 'since1julsnowfalli': '20.50', 'snowdepthm': '0.00', 'snowdepthi': '0.00', 'hail': '0', 'thunder': '0', 'tornado': '0', 'meantempm': '11', 'meantempi': '51', 'meandewptm': '8', 'meandewpti': '47', 'meanpressurem': '1020', 'meanpressurei': '30.11', 'meanwindspdm': '15', 'meanwindspdi': '9', 'meanwdire': '', 'meanwdird': '86', 'meanvism': '12', 'meanvisi': '8', 'humidity': '', 'maxtempm': '12', 'maxtempi': '54', 'mintempm': '9', 'mintempi': '48', 'maxhumidity': '93', 'minhumidity': '71', 'maxdewptm': '10', 'maxdewpti': '50', 'mindewptm': '6', 'mindewpti': '42', 'maxpressurem': '1022', 'maxpressurei': '30.17', 'minpressurem': '1019', 'minpressurei': '30.08', 'maxwspdm': '32', 'maxwspdi': '20', 'minwspdm': '0', 'minwspdi': '0', 'maxvism': '16', 'maxvisi': '10', 'minvism': '5', 'minvisi': '3', 'gdegreedays': '1', 'heatingdegreedays': '14', 'coolingdegreedays': '0', 'precipm': '7.11', 'precipi': '0.28', 'precipsource': '', 'heatingdegreedaysnormal': '5', 'monthtodateheatingdegreedays': '100', 'monthtodateheatingdegreedaysnormal': '105', 'since1sepheatingdegreedays': '', 'since1sepheatingdegreedaysnormal': '', 'since1julheatingdegreedays': '4853', 'since1julheatingdegreedaysnormal': '5998', 'coolingdegreedaysnormal': '2', 'monthtodatecoolingdegreedays': '9', 'monthtodatecoolingdegreedaysnormal': '21', 'since1sepcoolingdegreedays': '', 'since1sepcoolingdegreedaysnormal': '', 'since1jancoolingdegreedays': '18', 'since1jancoolingdegreedaysnormal': '35'}]\n"
     ]
    }
   ],
   "source": [
    "#get familiar with json file : \n",
    "test = extract_sample_weather_data(BASE_URL, API_KEY, target_date, 1)  "
   ]
  },
  {
   "cell_type": "markdown",
   "metadata": {},
   "source": [
    "En voyant la sortie de l'example ci-dessus, on arrive à comprendre le flux de données à partir de l'API vers notre poste de travail. Ce qui est important à noter c'est le dictionnaire <b>data</b> dont les clés contient plusieurs variables climatiques quantitatives (maxhumidity, maxdewptm, etc) et qualitatives (fog, rain, etc). Nous nous intéresserons  qu'aux variables quantitatives lors de ce projet."
   ]
  },
  {
   "cell_type": "markdown",
   "metadata": {},
   "source": [
    "<b>NB</b> : il faut faire la différence entre le  suffixe m et i.\n",
    "\n",
    "Par exemple, meantempm est la température moyenne en celsius (une unité métrique), et meantempi est la température moyenne en Fahrenheit (une unité impériale). Ils mesurent la même chose mais ont des valeurs et des unités différentes."
   ]
  },
  {
   "cell_type": "markdown",
   "metadata": {},
   "source": [
    "<i>Nous allons travailler qu'avec les unités métriques.</i>"
   ]
  },
  {
   "cell_type": "markdown",
   "metadata": {},
   "source": [
    "###### Choix des variables à extraire : "
   ]
  },
  {
   "cell_type": "markdown",
   "metadata": {},
   "source": [
    "Il s'agit d'une partie cruciale où la décision n'est pas assez évidente dans la mesure où on ne dispose pas d'une réalité certaine sur la corrélation entre la variable cible les autres variables climatique. En se basant sur le papier <b>Machine Learning Applied to Weather Forecasting</b>, nous étendons la liste des variables comme ci-dessous : \n",
    "\n",
    "    - meantempm  : mean temperature\n",
    "    - meandewptm : mean dew point\n",
    "    - meanpressurem : mean atmospheric pressure\n",
    "    - maxhumidity :  maximum humidity\n",
    "    - minhumidity : minimum humidity\n",
    "    - maxtempm : maximum temperature\n",
    "    - mintempm : minimum temperature\n",
    "    - maxdewptm : maximum dew point\n",
    "    - mindewptm : minimum dew point\n",
    "    - maxpressurem :  maximum atmospheric pressure\n",
    "    - minpressurem : minimum atmospheric pressure\n",
    "    - precipm : precipitation\n",
    "    "
   ]
  },
  {
   "cell_type": "markdown",
   "metadata": {},
   "source": [
    "###### Extraction de données :  "
   ]
  },
  {
   "cell_type": "code",
   "execution_count": 21,
   "metadata": {
    "collapsed": true
   },
   "outputs": [],
   "source": [
    "features = [\"date\", \"meantempm\", \"meandewptm\", \"meanpressurem\", \"maxhumidity\", \"minhumidity\", \"maxtempm\",  \n",
    "            \"mintempm\", \"maxdewptm\", \"mindewptm\", \"maxpressurem\", \"minpressurem\", \"precipm\"]\n",
    "DailySummary = namedtuple(\"DailySummary\", features)  "
   ]
  },
  {
   "cell_type": "code",
   "execution_count": 16,
   "metadata": {
    "collapsed": true
   },
   "outputs": [],
   "source": [
    "def extract_weather_data(url, api_key, target_date, days): \n",
    "    '''\n",
    "    Extract weather data from the wunderground API.\n",
    "    \n",
    "        Parameters : \n",
    "            - url : url of the API\n",
    "            - api_key : The API_KEY that Weather Underground provides with your account\n",
    "            - target_date : A string representing the target date of your request\n",
    "            - days : number of days\n",
    "        Returns : a list of namedtuple elements with the parsed data.\n",
    "        \n",
    "        \n",
    "        Example : \n",
    "            extract_weather_data(http://api.wunderground.com/api/{}/history_{}/q/NE/Lincoln.json, use_ur_key, datetime(2018,04,02), 45)\n",
    "    '''\n",
    "    records = []  # a list that will holds the parsed data\n",
    "    for _ in range(days):\n",
    "        request = BASE_URL.format(API_KEY, target_date.strftime('%Y%m%d')) # formatting the BASE_URL by interpolating the missing values\n",
    "        response = requests.get(request)\n",
    "        print(\"-------response--------- : \" )\n",
    "        print(response)\n",
    "        if response.status_code == 200: # make sure the request was successful by evaluating that the HTTP status code is equal to 200 \n",
    "            data = response.json()['history']['dailysummary'][0]\n",
    "            print(\"--------data--------\")\n",
    "            print(type(data),data)\n",
    "            print(\"------keys in dict data :----- \")\n",
    "            print(data.keys())\n",
    "            print('---------history----------')\n",
    "            print(response.json()['history'])\n",
    "            print('---------dailysummary-------------')\n",
    "            print(response.json()['history']['dailysummary'])\n",
    "            records.append(DailySummary(\n",
    "                date=target_date,\n",
    "                meantempm=data['meantempm'],\n",
    "                meandewptm=data['meandewptm'],\n",
    "                meanpressurem=data['meanpressurem'],\n",
    "                maxhumidity=data['maxhumidity'],\n",
    "                minhumidity=data['minhumidity'],\n",
    "                maxtempm=data['maxtempm'],\n",
    "                mintempm=data['mintempm'],\n",
    "                maxdewptm=data['maxdewptm'],\n",
    "                mindewptm=data['mindewptm'],\n",
    "                maxpressurem=data['maxpressurem'],\n",
    "                minpressurem=data['minpressurem'],\n",
    "                precipm=data['precipm']))\n",
    "        time.sleep(6) # to guarantee that no more than 10 requests are made per minute (respect the Wunderground's limits)\n",
    "        target_date += timedelta(days=1) # add one day to the existing target date\n",
    "    return records"
   ]
  },
  {
   "cell_type": "code",
   "execution_count": 23,
   "metadata": {
    "collapsed": true
   },
   "outputs": [],
   "source": [
    "#get the first batch of data : \n",
    "records = extract_weather_data(BASE_URL, API_KEY, target_date, 500)  "
   ]
  },
  {
   "cell_type": "code",
   "execution_count": 24,
   "metadata": {
    "collapsed": true
   },
   "outputs": [],
   "source": [
    "#save records as a pickle object \n",
    "with open('data/records_batch1.pkl','wb') as fid :\n",
    "    pickle.dump(records,fid,2)"
   ]
  },
  {
   "cell_type": "code",
   "execution_count": null,
   "metadata": {
    "collapsed": true
   },
   "outputs": [],
   "source": [
    "#get the seconde batch of data : \n",
    "target_date = datetime(2015, 1, 1)  \n",
    "records_2 = extract_weather_data(BASE_URL, API_KEY, target_date, 500)  "
   ]
  },
  {
   "cell_type": "code",
   "execution_count": null,
   "metadata": {
    "collapsed": true
   },
   "outputs": [],
   "source": [
    "#save records as a pickle object \n",
    "with open('data/records_batch2.pkl','wb') as fid :\n",
    "    pickle.dump(records_2,fid,2)"
   ]
  },
  {
   "cell_type": "code",
   "execution_count": 41,
   "metadata": {
    "collapsed": true
   },
   "outputs": [],
   "source": [
    "# I have missed 15/5/2016 so i will make one request for only this day\n",
    "target_date = datetime(2016, 5, 15)  \n",
    "records_3 = extract_weather_data(BASE_URL, API_KEY, target_date, 1)  "
   ]
  },
  {
   "cell_type": "code",
   "execution_count": 44,
   "metadata": {
    "collapsed": true
   },
   "outputs": [],
   "source": [
    "#save records as a pickle object \n",
    "with open('data/records_batch3.pkl','wb') as fid :\n",
    "    pickle.dump(records_3,fid,2)"
   ]
  },
  {
   "cell_type": "markdown",
   "metadata": {},
   "source": [
    "Join all batches :"
   ]
  },
  {
   "cell_type": "code",
   "execution_count": 36,
   "metadata": {
    "collapsed": true
   },
   "outputs": [],
   "source": [
    "#read the first batch from the saved pickle object : \n",
    "with open('data/records_batch1.pkl', 'rb') as fp:  \n",
    "    df1 = pickle.load(fp)"
   ]
  },
  {
   "cell_type": "code",
   "execution_count": 38,
   "metadata": {
    "collapsed": true
   },
   "outputs": [],
   "source": [
    "#read the seconde batch from the saved pickle object : \n",
    "with open('data/records_batch2.pkl', 'rb') as fp:  \n",
    "    df2 = pickle.load(fp)"
   ]
  },
  {
   "cell_type": "code",
   "execution_count": 45,
   "metadata": {
    "collapsed": true
   },
   "outputs": [],
   "source": [
    "#read the last batch from the saved pickle object : \n",
    "with open('data/records_batch3.pkl', 'rb') as fp:  \n",
    "    df3 = pickle.load(fp)"
   ]
  },
  {
   "cell_type": "code",
   "execution_count": 49,
   "metadata": {
    "collapsed": true
   },
   "outputs": [],
   "source": [
    "# add the last batch to the seconde one (to have the dates in Ascending order)\n",
    "df2+=df3"
   ]
  },
  {
   "cell_type": "code",
   "execution_count": 51,
   "metadata": {
    "collapsed": true
   },
   "outputs": [],
   "source": [
    "# finally add the first batch to the previous created batch df2 : \n",
    "df2+=df1"
   ]
  },
  {
   "cell_type": "code",
   "execution_count": 53,
   "metadata": {
    "collapsed": true
   },
   "outputs": [],
   "source": [
    "# save all batches in one file : \n",
    "with open('data/all_batches.pkl','wb') as fid :\n",
    "    pickle.dump(df2,fid,2)"
   ]
  },
  {
   "cell_type": "markdown",
   "metadata": {},
   "source": [
    "###### Construction de la trame de données :  <b>Pandas DataFrame</b>"
   ]
  },
  {
   "cell_type": "code",
   "execution_count": 22,
   "metadata": {},
   "outputs": [],
   "source": [
    "# read all batches : \n",
    "import pickle\n",
    "# do not forget to call Dailysummary namedtuple.\n",
    "with open('data/all_batches.pkl', 'rb') as fp:  \n",
    "    records = pickle.load(fp)"
   ]
  },
  {
   "cell_type": "code",
   "execution_count": 23,
   "metadata": {
    "collapsed": true
   },
   "outputs": [],
   "source": [
    "# construct dataframe using records object : \n",
    "df = pd.DataFrame(records, columns=features).set_index('date')  "
   ]
  },
  {
   "cell_type": "markdown",
   "metadata": {},
   "source": [
    "### B : Description des données "
   ]
  },
  {
   "cell_type": "markdown",
   "metadata": {},
   "source": [
    "Il exist plusieurs méthodes pour décrire les données, mais la plupart des descriptions sont axées sur la quantité et la qualité des données : le volume de données disponibles et l'état de ces données."
   ]
  },
  {
   "cell_type": "markdown",
   "metadata": {},
   "source": [
    "###### Quantité de données : "
   ]
  },
  {
   "cell_type": "code",
   "execution_count": 27,
   "metadata": {},
   "outputs": [
    {
     "name": "stdout",
     "output_type": "stream",
     "text": [
      "<class 'pandas.core.frame.DataFrame'>\n",
      "DatetimeIndex: 1001 entries, 2015-01-01 to 2017-09-27\n",
      "Data columns (total 12 columns):\n",
      "meantempm        1001 non-null object\n",
      "meandewptm       1001 non-null object\n",
      "meanpressurem    1001 non-null object\n",
      "maxhumidity      1001 non-null object\n",
      "minhumidity      1001 non-null object\n",
      "maxtempm         1001 non-null object\n",
      "mintempm         1001 non-null object\n",
      "maxdewptm        1001 non-null object\n",
      "mindewptm        1001 non-null object\n",
      "maxpressurem     1001 non-null object\n",
      "minpressurem     1001 non-null object\n",
      "precipm          1001 non-null object\n",
      "dtypes: object(12)\n",
      "memory usage: 101.7+ KB\n"
     ]
    }
   ],
   "source": [
    "df.info()"
   ]
  },
  {
   "cell_type": "markdown",
   "metadata": {},
   "source": [
    "La quantité des données disponible est facilement exploitable sous un jupyter notebook sans faire intervenir une architecture Big Data."
   ]
  },
  {
   "cell_type": "markdown",
   "metadata": {},
   "source": [
    "###### Qualité des données : "
   ]
  },
  {
   "cell_type": "code",
   "execution_count": 30,
   "metadata": {},
   "outputs": [
    {
     "data": {
      "text/plain": [
       "0"
      ]
     },
     "execution_count": 30,
     "metadata": {},
     "output_type": "execute_result"
    }
   ],
   "source": [
    "#check for missing values : \n",
    "df.isnull().sum().sum()"
   ]
  },
  {
   "cell_type": "markdown",
   "metadata": {},
   "source": [
    "- Il n'y a pas de valeurs manquantes.\n"
   ]
  },
  {
   "cell_type": "code",
   "execution_count": 38,
   "metadata": {},
   "outputs": [
    {
     "data": {
      "text/plain": [
       "meantempm        object\n",
       "meandewptm       object\n",
       "meanpressurem    object\n",
       "maxhumidity      object\n",
       "minhumidity      object\n",
       "maxtempm         object\n",
       "mintempm         object\n",
       "maxdewptm        object\n",
       "mindewptm        object\n",
       "maxpressurem     object\n",
       "minpressurem     object\n",
       "precipm          object\n",
       "dtype: object"
      ]
     },
     "execution_count": 38,
     "metadata": {},
     "output_type": "execute_result"
    }
   ],
   "source": [
    "#check for types : \n",
    "df.dtypes"
   ]
  },
  {
   "cell_type": "markdown",
   "metadata": {},
   "source": [
    "- Toutes les variables sont considérées comme étant <b>object</b> alors qu'elles sont numériques."
   ]
  },
  {
   "cell_type": "code",
   "execution_count": 42,
   "metadata": {},
   "outputs": [],
   "source": [
    "#change type to float : \n",
    "df=df.apply(pd.to_numeric, errors='coerce') # coerce change any text value to Nan"
   ]
  },
  {
   "cell_type": "markdown",
   "metadata": {},
   "source": [
    "### C :  Exploration des données "
   ]
  },
  {
   "cell_type": "markdown",
   "metadata": {},
   "source": [
    "Dans cette partie nous allons explorer notre jeu de données à travers quelques graphiques de séries temporelles pour voir son contenu d'une façon claire et concise."
   ]
  },
  {
   "cell_type": "code",
   "execution_count": 37,
   "metadata": {},
   "outputs": [
    {
     "data": {
      "text/plain": [
       "meantempm        object\n",
       "meandewptm       object\n",
       "meanpressurem    object\n",
       "maxhumidity      object\n",
       "minhumidity      object\n",
       "maxtempm         object\n",
       "mintempm         object\n",
       "maxdewptm        object\n",
       "mindewptm        object\n",
       "maxpressurem     object\n",
       "minpressurem     object\n",
       "precipm          object\n",
       "dtype: object"
      ]
     },
     "execution_count": 37,
     "metadata": {},
     "output_type": "execute_result"
    }
   ],
   "source": [
    "df.dtypes"
   ]
  },
  {
   "cell_type": "code",
   "execution_count": null,
   "metadata": {
    "collapsed": true
   },
   "outputs": [],
   "source": []
  }
 ],
 "metadata": {
  "kernelspec": {
   "display_name": "Python 3",
   "language": "python",
   "name": "python3"
  },
  "language_info": {
   "codemirror_mode": {
    "name": "ipython",
    "version": 3
   },
   "file_extension": ".py",
   "mimetype": "text/x-python",
   "name": "python",
   "nbconvert_exporter": "python",
   "pygments_lexer": "ipython3",
   "version": "3.6.3"
  }
 },
 "nbformat": 4,
 "nbformat_minor": 2
}
