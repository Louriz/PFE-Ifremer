{
 "cells": [
  {
   "cell_type": "markdown",
   "metadata": {},
   "source": [
    "# <center> Machine Learning Applied to Weather Forecasting </center>"
   ]
  },
  {
   "cell_type": "markdown",
   "metadata": {
    "collapsed": true
   },
   "source": [
    "# Modélisation"
   ]
  },
  {
   "cell_type": "markdown",
   "metadata": {},
   "source": [
    "Après avoir terminé la phase de la préparation des données, nous allons entamer la phase de modélisation. Nous allons commncer par un modèle de regression linéaire."
   ]
  },
  {
   "cell_type": "markdown",
   "metadata": {},
   "source": [
    "###### 1. upload prepared data : "
   ]
  },
  {
   "cell_type": "code",
   "execution_count": 68,
   "metadata": {},
   "outputs": [
    {
     "data": {
      "text/html": [
       "<div>\n",
       "<style>\n",
       "    .dataframe thead tr:only-child th {\n",
       "        text-align: right;\n",
       "    }\n",
       "\n",
       "    .dataframe thead th {\n",
       "        text-align: left;\n",
       "    }\n",
       "\n",
       "    .dataframe tbody tr th {\n",
       "        vertical-align: top;\n",
       "    }\n",
       "</style>\n",
       "<table border=\"1\" class=\"dataframe\">\n",
       "  <thead>\n",
       "    <tr style=\"text-align: right;\">\n",
       "      <th></th>\n",
       "      <th>meantempm</th>\n",
       "      <th>maxtempm</th>\n",
       "      <th>mintempm</th>\n",
       "      <th>meantempm_1</th>\n",
       "      <th>meantempm_2</th>\n",
       "      <th>meantempm_3</th>\n",
       "      <th>meandewptm_1</th>\n",
       "      <th>meandewptm_2</th>\n",
       "      <th>meandewptm_3</th>\n",
       "      <th>meanpressurem_1</th>\n",
       "      <th>...</th>\n",
       "      <th>mindewptm_3</th>\n",
       "      <th>maxpressurem_1</th>\n",
       "      <th>maxpressurem_2</th>\n",
       "      <th>maxpressurem_3</th>\n",
       "      <th>minpressurem_1</th>\n",
       "      <th>minpressurem_2</th>\n",
       "      <th>minpressurem_3</th>\n",
       "      <th>precipm_1</th>\n",
       "      <th>precipm_2</th>\n",
       "      <th>precipm_3</th>\n",
       "    </tr>\n",
       "    <tr>\n",
       "      <th>date</th>\n",
       "      <th></th>\n",
       "      <th></th>\n",
       "      <th></th>\n",
       "      <th></th>\n",
       "      <th></th>\n",
       "      <th></th>\n",
       "      <th></th>\n",
       "      <th></th>\n",
       "      <th></th>\n",
       "      <th></th>\n",
       "      <th></th>\n",
       "      <th></th>\n",
       "      <th></th>\n",
       "      <th></th>\n",
       "      <th></th>\n",
       "      <th></th>\n",
       "      <th></th>\n",
       "      <th></th>\n",
       "      <th></th>\n",
       "      <th></th>\n",
       "      <th></th>\n",
       "    </tr>\n",
       "  </thead>\n",
       "  <tbody>\n",
       "    <tr>\n",
       "      <th>2015-01-04</th>\n",
       "      <td>-14</td>\n",
       "      <td>-12</td>\n",
       "      <td>-18</td>\n",
       "      <td>-4.0</td>\n",
       "      <td>-6.0</td>\n",
       "      <td>-6.0</td>\n",
       "      <td>-11.0</td>\n",
       "      <td>-9.0</td>\n",
       "      <td>-12.0</td>\n",
       "      <td>1016.0</td>\n",
       "      <td>...</td>\n",
       "      <td>-18.0</td>\n",
       "      <td>1025.0</td>\n",
       "      <td>1026.0</td>\n",
       "      <td>1025.0</td>\n",
       "      <td>1010.0</td>\n",
       "      <td>1017.0</td>\n",
       "      <td>1019.0</td>\n",
       "      <td>0.76</td>\n",
       "      <td>0.00</td>\n",
       "      <td>0.00</td>\n",
       "    </tr>\n",
       "    <tr>\n",
       "      <th>2015-01-05</th>\n",
       "      <td>-9</td>\n",
       "      <td>-3</td>\n",
       "      <td>-14</td>\n",
       "      <td>-14.0</td>\n",
       "      <td>-4.0</td>\n",
       "      <td>-6.0</td>\n",
       "      <td>-19.0</td>\n",
       "      <td>-11.0</td>\n",
       "      <td>-9.0</td>\n",
       "      <td>1033.0</td>\n",
       "      <td>...</td>\n",
       "      <td>-13.0</td>\n",
       "      <td>1043.0</td>\n",
       "      <td>1025.0</td>\n",
       "      <td>1026.0</td>\n",
       "      <td>1023.0</td>\n",
       "      <td>1010.0</td>\n",
       "      <td>1017.0</td>\n",
       "      <td>0.25</td>\n",
       "      <td>0.76</td>\n",
       "      <td>0.00</td>\n",
       "    </tr>\n",
       "    <tr>\n",
       "      <th>2015-01-06</th>\n",
       "      <td>-10</td>\n",
       "      <td>-6</td>\n",
       "      <td>-14</td>\n",
       "      <td>-9.0</td>\n",
       "      <td>-14.0</td>\n",
       "      <td>-4.0</td>\n",
       "      <td>-14.0</td>\n",
       "      <td>-19.0</td>\n",
       "      <td>-11.0</td>\n",
       "      <td>1032.0</td>\n",
       "      <td>...</td>\n",
       "      <td>-16.0</td>\n",
       "      <td>1043.0</td>\n",
       "      <td>1043.0</td>\n",
       "      <td>1025.0</td>\n",
       "      <td>1023.0</td>\n",
       "      <td>1023.0</td>\n",
       "      <td>1010.0</td>\n",
       "      <td>0.00</td>\n",
       "      <td>0.25</td>\n",
       "      <td>0.76</td>\n",
       "    </tr>\n",
       "    <tr>\n",
       "      <th>2015-01-07</th>\n",
       "      <td>-16</td>\n",
       "      <td>-12</td>\n",
       "      <td>-19</td>\n",
       "      <td>-10.0</td>\n",
       "      <td>-9.0</td>\n",
       "      <td>-14.0</td>\n",
       "      <td>-15.0</td>\n",
       "      <td>-14.0</td>\n",
       "      <td>-19.0</td>\n",
       "      <td>1036.0</td>\n",
       "      <td>...</td>\n",
       "      <td>-23.0</td>\n",
       "      <td>1043.0</td>\n",
       "      <td>1043.0</td>\n",
       "      <td>1043.0</td>\n",
       "      <td>1027.0</td>\n",
       "      <td>1023.0</td>\n",
       "      <td>1023.0</td>\n",
       "      <td>0.00</td>\n",
       "      <td>0.00</td>\n",
       "      <td>0.25</td>\n",
       "    </tr>\n",
       "    <tr>\n",
       "      <th>2015-01-08</th>\n",
       "      <td>-7</td>\n",
       "      <td>2</td>\n",
       "      <td>-16</td>\n",
       "      <td>-16.0</td>\n",
       "      <td>-10.0</td>\n",
       "      <td>-9.0</td>\n",
       "      <td>-22.0</td>\n",
       "      <td>-15.0</td>\n",
       "      <td>-14.0</td>\n",
       "      <td>1035.0</td>\n",
       "      <td>...</td>\n",
       "      <td>-17.0</td>\n",
       "      <td>1055.0</td>\n",
       "      <td>1043.0</td>\n",
       "      <td>1043.0</td>\n",
       "      <td>956.0</td>\n",
       "      <td>1027.0</td>\n",
       "      <td>1023.0</td>\n",
       "      <td>0.00</td>\n",
       "      <td>0.00</td>\n",
       "      <td>0.00</td>\n",
       "    </tr>\n",
       "  </tbody>\n",
       "</table>\n",
       "<p>5 rows × 39 columns</p>\n",
       "</div>"
      ],
      "text/plain": [
       "            meantempm  maxtempm  mintempm  meantempm_1  meantempm_2  \\\n",
       "date                                                                  \n",
       "2015-01-04        -14       -12       -18         -4.0         -6.0   \n",
       "2015-01-05         -9        -3       -14        -14.0         -4.0   \n",
       "2015-01-06        -10        -6       -14         -9.0        -14.0   \n",
       "2015-01-07        -16       -12       -19        -10.0         -9.0   \n",
       "2015-01-08         -7         2       -16        -16.0        -10.0   \n",
       "\n",
       "            meantempm_3  meandewptm_1  meandewptm_2  meandewptm_3  \\\n",
       "date                                                                \n",
       "2015-01-04         -6.0         -11.0          -9.0         -12.0   \n",
       "2015-01-05         -6.0         -19.0         -11.0          -9.0   \n",
       "2015-01-06         -4.0         -14.0         -19.0         -11.0   \n",
       "2015-01-07        -14.0         -15.0         -14.0         -19.0   \n",
       "2015-01-08         -9.0         -22.0         -15.0         -14.0   \n",
       "\n",
       "            meanpressurem_1    ...      mindewptm_3  maxpressurem_1  \\\n",
       "date                           ...                                    \n",
       "2015-01-04           1016.0    ...            -18.0          1025.0   \n",
       "2015-01-05           1033.0    ...            -13.0          1043.0   \n",
       "2015-01-06           1032.0    ...            -16.0          1043.0   \n",
       "2015-01-07           1036.0    ...            -23.0          1043.0   \n",
       "2015-01-08           1035.0    ...            -17.0          1055.0   \n",
       "\n",
       "            maxpressurem_2  maxpressurem_3  minpressurem_1  minpressurem_2  \\\n",
       "date                                                                         \n",
       "2015-01-04          1026.0          1025.0          1010.0          1017.0   \n",
       "2015-01-05          1025.0          1026.0          1023.0          1010.0   \n",
       "2015-01-06          1043.0          1025.0          1023.0          1023.0   \n",
       "2015-01-07          1043.0          1043.0          1027.0          1023.0   \n",
       "2015-01-08          1043.0          1043.0           956.0          1027.0   \n",
       "\n",
       "            minpressurem_3  precipm_1  precipm_2  precipm_3  \n",
       "date                                                         \n",
       "2015-01-04          1019.0       0.76       0.00       0.00  \n",
       "2015-01-05          1017.0       0.25       0.76       0.00  \n",
       "2015-01-06          1010.0       0.00       0.25       0.76  \n",
       "2015-01-07          1023.0       0.00       0.00       0.25  \n",
       "2015-01-08          1023.0       0.00       0.00       0.00  \n",
       "\n",
       "[5 rows x 39 columns]"
      ]
     },
     "execution_count": 68,
     "metadata": {},
     "output_type": "execute_result"
    }
   ],
   "source": [
    "import pandas as pd\n",
    "df=pd.read_csv('data/data-prepared.csv').set_index('date')\n",
    "df.head()"
   ]
  },
  {
   "cell_type": "markdown",
   "metadata": {},
   "source": [
    "######   La régression linéaire utilisant les moindres carrés ordinaires :"
   ]
  },
  {
   "cell_type": "markdown",
   "metadata": {},
   "source": [
    "<b>La régression linéaire</b> vise à appliquer un ensemble d'hypothèses primaires concernant les relations linéaires et les techniques numériques pour prédire une variable cible (la variable dépendante Y; the target) basé sur un ou plusieurs prédicteurs (variables indépendantes X; the features). L'objectif final est d'établir un modèle mathématique pour prédire la valeur de Y -avec une certaine quantité d'incertitude- étant donné seulement les valeurs prédictives X."
   ]
  },
  {
   "cell_type": "markdown",
   "metadata": {},
   "source": [
    "La formule générale de la régression linéaire  est la suivante :  "
   ]
  },
  {
   "cell_type": "markdown",
   "metadata": {},
   "source": [
    "<mark>$$ \\hat{y}=\\beta_0 + \\beta_1 * x_1 + \\beta_2 * x_2 + \\beta_3 * x_3 + ... + \\beta_n * x_n + \\epsilon  $$</mark>"
   ]
  },
  {
   "cell_type": "markdown",
   "metadata": {},
   "source": [
    "-  <b>ŷ</b> : la variables cible\n",
    "- <b>x_j</b> :  les variables indépendantes\n",
    "- <b>β0</b> :   l'ordonnée à l'origine ou la valeur de  quand chaque xj est égal à zéro\n",
    "- <b>βj</b>:  le changement de ŷ basé sur un changement d'une unité dans l'un des xj correspondant\n",
    "- <b>ϵ</b>  :   un terme d'erreur aléatoire associé à la différence entre la valeur ŷi prédite et la valeur yi réelle"
   ]
  },
  {
   "cell_type": "markdown",
   "metadata": {},
   "source": [
    "Le dernier terme de l'équation ci-dessus (<b>ϵ</b>) est le terme le plus important dans la régression linéaire. La forme la plus élémentaire pour faire un modèle de régression linéaire repose sur un algorithme connu sous le nom de Moindres carrés ordinaires qui trouve la combinaison des valeurs de <b>βj</b> qui minimisent le terme <b>ϵ</b>."
   ]
  },
  {
   "cell_type": "markdown",
   "metadata": {},
   "source": [
    "###### 3. Sélection des variables pour notre modèle :  "
   ]
  },
  {
   "cell_type": "markdown",
   "metadata": {},
   "source": [
    "Une hypothèse clé requise par la régression linéaire est que nous avions une relation linéaire entre la variable dépendante et chaque variable indépendante. Nous allons utiliser comme méthode pour évaluer la linéarité entre notre variable indépendante (la température moyenne) et les autres variables indépendantes  <b>le coefficient de corrélation de Pearson.</b>"
   ]
  },
  {
   "cell_type": "markdown",
   "metadata": {},
   "source": [
    "Le coefficient de corrélation de Pearson  est une mesure de la quantité de corrélation linéaire entre deux variables de même longueur qui produit une valeur allant de -1 à 1. Les valeurs de corrélation allant de 0 à 1 représentent une corrélation positive de plus en plus forte. Cela veut dire  que deux variables  sont positivement corrélées lorsque les valeurs d'une variable  augmentent simultanément avec les valeurs de l'autre variable et, comme elles augmentent toutes les deux dans une grandeur de plus en plus égale, la valeur de corrélation de Pearson approchera 1."
   ]
  },
  {
   "cell_type": "markdown",
   "metadata": {},
   "source": [
    " Les valeurs de corrélation allant de 0 à -1 représentent une corrélation négative de plus en plus forte. Cela veut dire  que deux variables  sont négativement corrélées lorsque les valeurs d'une variable  augmentent, les valeurs de l'autre variable diminuent."
   ]
  },
  {
   "cell_type": "markdown",
   "metadata": {},
   "source": [
    "Les opinions varient selon les statisticiens et les livres de statistiques sur des limites bien définies pour les niveaux de force d'un coefficient de corrélation. Cependant, j'ai trouvé  dans un article (http://stackabuse.com/using-machine-learning-to-predict-the-weather-part-2/) qu'un ensemble de classifications généralement accepté pour les forces de corrélation sont les suivantes: "
   ]
  },
  {
   "cell_type": "code",
   "execution_count": 69,
   "metadata": {},
   "outputs": [
    {
     "data": {
      "text/html": [
       "<table>\n",
       "<tbody>\n",
       "<tr><td>Correlation Value</td><td>Interpretation</td></tr>\n",
       "<tr><td>0.8 - 1.0        </td><td>Very Strong   </td></tr>\n",
       "<tr><td>0.6 - 0.8        </td><td>Strong        </td></tr>\n",
       "<tr><td>0.4 - 0.6        </td><td>Moderate      </td></tr>\n",
       "<tr><td>0.2 - 0.4        </td><td>Weak          </td></tr>\n",
       "<tr><td>0.0 - 0.2        </td><td>Very Weak     </td></tr>\n",
       "</tbody>\n",
       "</table>"
      ],
      "text/plain": [
       "<IPython.core.display.HTML object>"
      ]
     },
     "metadata": {},
     "output_type": "display_data"
    }
   ],
   "source": [
    "from IPython.display import HTML, display\n",
    "import tabulate\n",
    "table=[[\"Correlation Value \",\"Interpretation\"],\n",
    "       [\"0.8 - 1.0\", \"Very Strong\"],\n",
    "[\"0.6 - 0.8\",\"Strong\" ],\n",
    "       [\"0.4 - 0.6\",\"Moderate\"],\n",
    "[\"0.2 - 0.4\" ,\"Weak\"],\n",
    "[\"0.0 - 0.2\", \"Very Weak\" ]]\n",
    "display(HTML(tabulate.tabulate(table, tablefmt='html')))"
   ]
  },
  {
   "cell_type": "markdown",
   "metadata": {},
   "source": [
    "<i>pour les valeurs de 0 à -1 on aura les mêmes intérprétation.</i> "
   ]
  },
  {
   "cell_type": "code",
   "execution_count": 70,
   "metadata": {},
   "outputs": [
    {
     "data": {
      "text/html": [
       "<div>\n",
       "<style>\n",
       "    .dataframe thead tr:only-child th {\n",
       "        text-align: right;\n",
       "    }\n",
       "\n",
       "    .dataframe thead th {\n",
       "        text-align: left;\n",
       "    }\n",
       "\n",
       "    .dataframe tbody tr th {\n",
       "        vertical-align: top;\n",
       "    }\n",
       "</style>\n",
       "<table border=\"1\" class=\"dataframe\">\n",
       "  <thead>\n",
       "    <tr style=\"text-align: right;\">\n",
       "      <th></th>\n",
       "      <th>meantempm</th>\n",
       "    </tr>\n",
       "  </thead>\n",
       "  <tbody>\n",
       "    <tr>\n",
       "      <th>maxpressurem_1</th>\n",
       "      <td>-0.531878</td>\n",
       "    </tr>\n",
       "    <tr>\n",
       "      <th>maxpressurem_2</th>\n",
       "      <td>-0.432725</td>\n",
       "    </tr>\n",
       "    <tr>\n",
       "      <th>maxpressurem_3</th>\n",
       "      <td>-0.419222</td>\n",
       "    </tr>\n",
       "    <tr>\n",
       "      <th>meanpressurem_1</th>\n",
       "      <td>-0.382562</td>\n",
       "    </tr>\n",
       "    <tr>\n",
       "      <th>meanpressurem_2</th>\n",
       "      <td>-0.281606</td>\n",
       "    </tr>\n",
       "    <tr>\n",
       "      <th>meanpressurem_3</th>\n",
       "      <td>-0.278107</td>\n",
       "    </tr>\n",
       "    <tr>\n",
       "      <th>minpressurem_1</th>\n",
       "      <td>-0.220759</td>\n",
       "    </tr>\n",
       "    <tr>\n",
       "      <th>minhumidity_1</th>\n",
       "      <td>-0.135587</td>\n",
       "    </tr>\n",
       "    <tr>\n",
       "      <th>minhumidity_2</th>\n",
       "      <td>-0.127900</td>\n",
       "    </tr>\n",
       "    <tr>\n",
       "      <th>minpressurem_2</th>\n",
       "      <td>-0.120854</td>\n",
       "    </tr>\n",
       "    <tr>\n",
       "      <th>minpressurem_3</th>\n",
       "      <td>-0.120850</td>\n",
       "    </tr>\n",
       "    <tr>\n",
       "      <th>minhumidity_3</th>\n",
       "      <td>-0.100153</td>\n",
       "    </tr>\n",
       "    <tr>\n",
       "      <th>precipm_2</th>\n",
       "      <td>0.095758</td>\n",
       "    </tr>\n",
       "    <tr>\n",
       "      <th>precipm_1</th>\n",
       "      <td>0.098364</td>\n",
       "    </tr>\n",
       "    <tr>\n",
       "      <th>precipm_3</th>\n",
       "      <td>0.107952</td>\n",
       "    </tr>\n",
       "    <tr>\n",
       "      <th>maxhumidity_1</th>\n",
       "      <td>0.155483</td>\n",
       "    </tr>\n",
       "    <tr>\n",
       "      <th>maxhumidity_2</th>\n",
       "      <td>0.171744</td>\n",
       "    </tr>\n",
       "    <tr>\n",
       "      <th>maxhumidity_3</th>\n",
       "      <td>0.180876</td>\n",
       "    </tr>\n",
       "    <tr>\n",
       "      <th>maxdewptm_3</th>\n",
       "      <td>0.826397</td>\n",
       "    </tr>\n",
       "    <tr>\n",
       "      <th>maxtempm_3</th>\n",
       "      <td>0.833093</td>\n",
       "    </tr>\n",
       "    <tr>\n",
       "      <th>meandewptm_3</th>\n",
       "      <td>0.834331</td>\n",
       "    </tr>\n",
       "    <tr>\n",
       "      <th>mindewptm_3</th>\n",
       "      <td>0.835447</td>\n",
       "    </tr>\n",
       "    <tr>\n",
       "      <th>maxdewptm_2</th>\n",
       "      <td>0.837436</td>\n",
       "    </tr>\n",
       "    <tr>\n",
       "      <th>mintempm_3</th>\n",
       "      <td>0.837537</td>\n",
       "    </tr>\n",
       "    <tr>\n",
       "      <th>meandewptm_2</th>\n",
       "      <td>0.848092</td>\n",
       "    </tr>\n",
       "    <tr>\n",
       "      <th>mintempm_2</th>\n",
       "      <td>0.852654</td>\n",
       "    </tr>\n",
       "    <tr>\n",
       "      <th>mindewptm_2</th>\n",
       "      <td>0.852825</td>\n",
       "    </tr>\n",
       "    <tr>\n",
       "      <th>meantempm_3</th>\n",
       "      <td>0.856885</td>\n",
       "    </tr>\n",
       "    <tr>\n",
       "      <th>maxtempm_2</th>\n",
       "      <td>0.861635</td>\n",
       "    </tr>\n",
       "    <tr>\n",
       "      <th>meantempm_2</th>\n",
       "      <td>0.879647</td>\n",
       "    </tr>\n",
       "    <tr>\n",
       "      <th>maxdewptm_1</th>\n",
       "      <td>0.884165</td>\n",
       "    </tr>\n",
       "    <tr>\n",
       "      <th>meandewptm_1</th>\n",
       "      <td>0.895751</td>\n",
       "    </tr>\n",
       "    <tr>\n",
       "      <th>mindewptm_1</th>\n",
       "      <td>0.897891</td>\n",
       "    </tr>\n",
       "    <tr>\n",
       "      <th>mintempm_1</th>\n",
       "      <td>0.902823</td>\n",
       "    </tr>\n",
       "    <tr>\n",
       "      <th>maxtempm_1</th>\n",
       "      <td>0.922707</td>\n",
       "    </tr>\n",
       "    <tr>\n",
       "      <th>meantempm_1</th>\n",
       "      <td>0.935995</td>\n",
       "    </tr>\n",
       "    <tr>\n",
       "      <th>mintempm</th>\n",
       "      <td>0.973111</td>\n",
       "    </tr>\n",
       "    <tr>\n",
       "      <th>maxtempm</th>\n",
       "      <td>0.976356</td>\n",
       "    </tr>\n",
       "    <tr>\n",
       "      <th>meantempm</th>\n",
       "      <td>1.000000</td>\n",
       "    </tr>\n",
       "  </tbody>\n",
       "</table>\n",
       "</div>"
      ],
      "text/plain": [
       "                 meantempm\n",
       "maxpressurem_1   -0.531878\n",
       "maxpressurem_2   -0.432725\n",
       "maxpressurem_3   -0.419222\n",
       "meanpressurem_1  -0.382562\n",
       "meanpressurem_2  -0.281606\n",
       "meanpressurem_3  -0.278107\n",
       "minpressurem_1   -0.220759\n",
       "minhumidity_1    -0.135587\n",
       "minhumidity_2    -0.127900\n",
       "minpressurem_2   -0.120854\n",
       "minpressurem_3   -0.120850\n",
       "minhumidity_3    -0.100153\n",
       "precipm_2         0.095758\n",
       "precipm_1         0.098364\n",
       "precipm_3         0.107952\n",
       "maxhumidity_1     0.155483\n",
       "maxhumidity_2     0.171744\n",
       "maxhumidity_3     0.180876\n",
       "maxdewptm_3       0.826397\n",
       "maxtempm_3        0.833093\n",
       "meandewptm_3      0.834331\n",
       "mindewptm_3       0.835447\n",
       "maxdewptm_2       0.837436\n",
       "mintempm_3        0.837537\n",
       "meandewptm_2      0.848092\n",
       "mintempm_2        0.852654\n",
       "mindewptm_2       0.852825\n",
       "meantempm_3       0.856885\n",
       "maxtempm_2        0.861635\n",
       "meantempm_2       0.879647\n",
       "maxdewptm_1       0.884165\n",
       "meandewptm_1      0.895751\n",
       "mindewptm_1       0.897891\n",
       "mintempm_1        0.902823\n",
       "maxtempm_1        0.922707\n",
       "meantempm_1       0.935995\n",
       "mintempm          0.973111\n",
       "maxtempm          0.976356\n",
       "meantempm         1.000000"
      ]
     },
     "execution_count": 70,
     "metadata": {},
     "output_type": "execute_result"
    }
   ],
   "source": [
    "#corrélation en utilisant la fonction corr()\n",
    "correlation = df.corr()[['meantempm']].sort_values('meantempm')  \n",
    "correlation"
   ]
  },
  {
   "cell_type": "markdown",
   "metadata": {},
   "source": [
    "Nous allons inclure que les variables dont le coefficient de corrélation est supérieur à 0.6 en valeur absolue. De plus, nous allons aussi éliminer maxtemp et mintemp puisque ces deux variables seront l'origine d'une <b>Data leakage</b> (Elle a lieu quand on dispose dans l'ensemble des features un ou plusieurs features qui sont très suffisants pour la prédiction de la variable cible.)"
   ]
  },
  {
   "cell_type": "code",
   "execution_count": 71,
   "metadata": {},
   "outputs": [],
   "source": [
    "predictors = list(correlation[(correlation['meantempm']>0.6) | (correlation['meantempm']<-0.6)].index)"
   ]
  },
  {
   "cell_type": "code",
   "execution_count": 72,
   "metadata": {},
   "outputs": [],
   "source": [
    "predictors.remove('maxtempm')\n",
    "predictors.remove('mintempm')\n",
    "predictors.remove('meantempm')"
   ]
  },
  {
   "cell_type": "code",
   "execution_count": 73,
   "metadata": {
    "collapsed": true
   },
   "outputs": [],
   "source": [
    "df2=df[predictors+['meantempm']]"
   ]
  },
  {
   "cell_type": "markdown",
   "metadata": {},
   "source": [
    "##### 4. Visualisation des relations linéaires entre la cibles et les features : "
   ]
  },
  {
   "cell_type": "code",
   "execution_count": 74,
   "metadata": {
    "collapsed": true
   },
   "outputs": [],
   "source": [
    "import matplotlib  \n",
    "import matplotlib.pyplot as plt  \n",
    "import numpy as np  "
   ]
  },
  {
   "cell_type": "code",
   "execution_count": 75,
   "metadata": {},
   "outputs": [
    {
     "data": {
      "image/png": "[encoded data removed]",
      "text/plain": [
       "<matplotlib.figure.Figure at 0x1fafa263f60>"
      ]
     },
     "metadata": {},
     "output_type": "display_data"
    }
   ],
   "source": [
    "%matplotlib inline\n",
    "\n",
    "# manually set the parameters of the figure to and appropriate size\n",
    "plt.rcParams['figure.figsize'] = [16, 22]\n",
    "\n",
    "# call subplots specifying the grid structure we desire and that \n",
    "# the y axes should be shared\n",
    "fig, axes = plt.subplots(nrows=6, ncols=3, sharey=True)\n",
    "\n",
    "# Since it would be nice to loop through the features in to build this plot\n",
    "# let us rearrange our data into a 2D array of 6 rows and 3 columns\n",
    "arr = np.array(predictors).reshape(6, 3)\n",
    "\n",
    "# use enumerate to loop over the arr 2D array of rows and columns\n",
    "# and create scatter plots of each meantempm vs each feature\n",
    "for row, col_arr in enumerate(arr):  \n",
    "    for col, feature in enumerate(col_arr):\n",
    "        axes[row, col].scatter(df2[feature], df2['meantempm'])\n",
    "        if col == 0:\n",
    "            axes[row, col].set(xlabel=feature, ylabel='meantempm')\n",
    "        else:\n",
    "            axes[row, col].set(xlabel=feature)\n",
    "            \n",
    "plt.show()  \n"
   ]
  },
  {
   "cell_type": "markdown",
   "metadata": {},
   "source": [
    "à partir des graphiques ci-dessus nous remarquons très bien que toutes les variables restantes présentent une relation linéaire avec la variable cible (meantempm)."
   ]
  },
  {
   "cell_type": "markdown",
   "metadata": {},
   "source": [
    "De plus, il est également intéressant de noter que les relations sont uniformément distribuées de manière aléatoire. J'entends par là qu'il semble y avoir une variation relativement égale dans la propagation des valeurs dépourvues de toute forme d'éventail ou de cône. Une distribution aléatoire uniforme de la propagation le long des points est également une autre hypothèse importante de la régression linéaire utilisant l'algorithme des moindres carrés ordinaires."
   ]
  },
  {
   "cell_type": "markdown",
   "metadata": {},
   "source": [
    "###### 5. Step-Wise Regression : "
   ]
  },
  {
   "cell_type": "markdown",
   "metadata": {},
   "source": [
    "Un modèle de régression linéaire robuste devrait utiliser des tests statistiques pour sélectionner des prédicteurs significatifs, statistiquement significatifs, à inclure. Pour sélectionner des features statistiquement significatives, j'utiliserai la bibliothèque Python statsmodels. Cependant, avant de passer à l'implémentation pratique de l'utilisation de la bibliothèque statsmodels, je voudrais prendre du recul et expliquer la signification théorique et le but de cette approche."
   ]
  },
  {
   "cell_type": "markdown",
   "metadata": {},
   "source": [
    "Un aspect clé de l'utilisation de méthodes statistiques telles que la régression linéaire dans un projet d'analyse est les tests d'hypothèses pour valider la signification des hypothèses faites sur les données étudiées. De nombreux tests d'hypothèses ont été développés pour tester la robustesse d'un modèle de régression linéaire par rapport à diverses hypothèses. Un tel test d'hypothèse consiste à évaluer la signification de chacune des variables prédictives incluses."
   ]
  },
  {
   "cell_type": "markdown",
   "metadata": {},
   "source": [
    "Rappel :  la formule mathématiquede la régression linéaire "
   ]
  },
  {
   "cell_type": "markdown",
   "metadata": {},
   "source": [
    "$$ \\hat{y}=\\beta_0 + \\beta_1 * x_1 + \\beta_2 * x_2 + \\beta_3 * x_3 + ... + \\beta_n * x_n + \\epsilon  $$"
   ]
  },
  {
   "cell_type": "markdown",
   "metadata": {},
   "source": [
    "La définition formelle du test d'hypothèse pour la signification des paramètres <b>βj</B> est la suivante:"
   ]
  },
  {
   "cell_type": "markdown",
   "metadata": {},
   "source": [
    "- H0 : <b>βj</b> = 0, l'hypothèse nulle indique que le prédicteur n'a aucun effet sur la variable cible.\n",
    "\n",
    "- H1 :  <b>βj</b> # 0, l'hypothèse alternative indique que le prédicteur a un effet significatif sur la variable cible."
   ]
  },
  {
   "cell_type": "markdown",
   "metadata": {},
   "source": [
    "En utilisant des tests de probabilité pour évaluer la probabilité que chaque <b>βj</b> est significatif au-delà de la simple chance aléatoire à un seuil sélectionné <b>threshold</b> nous pouvons être plus rigoureux dans la sélection des variables à inclure résultant en un modèle plus robuste."
   ]
  },
  {
   "cell_type": "markdown",
   "metadata": {},
   "source": [
    "Cependant, dans de nombreux jeux de données, il peut y avoir des interactions entre les variables qui peuvent conduire à de fausses interprétations de ces tests d'hypothèse simples. Pour tester les effets des interactions sur la signification de n'importe quelle variable dans un modèle de régression linéaire, une technique connue sous le nom <b>Step-Wise Regressionn</b> est souvent appliquée. En utilisant cette régression, nous ajoutons ou supprimons des variables du modèle et évaluer la signification statistique de chaque variable sur le modèle résultant."
   ]
  },
  {
   "cell_type": "markdown",
   "metadata": {},
   "source": [
    "Pour ce faire, nous allons utiliser la méthode connue sous le nom : <b>Backward elimination</b>"
   ]
  },
  {
   "cell_type": "markdown",
   "metadata": {},
   "source": [
    "###### 6. Backward elimination :  formalisation "
   ]
  },
  {
   "cell_type": "markdown",
   "metadata": {},
   "source": [
    " <b>a.</b> Sélectionner un niveau de signification <b>threshold</b> pour lequel nous allons tester notre hypothèse afin de déterminer si une variable doit rester dans le modèle\n",
    " \n",
    " <b>b.</b> élaborer le modéle avec toutes les variables choisies\n",
    " \n",
    " <b>c</b>. Evaluer les p-values des <b>βj</b> et pour celui qui a la plus grande p-value, si p-value> <b>threshold</b> on passe à l'étape 4, sinon nous avons notre modèle final\n",
    "\n",
    " <b>d.</b> Supprimer la variable identifiée à l'étape 3\n",
    " \n",
    " <b>e.</b> Elaborer le modèle une deuxième fois mais ce fois-ci sans la variable supprimée dans l'étape 4 puis reboucler vers l'étape 3 ."
   ]
  },
  {
   "cell_type": "markdown",
   "metadata": {},
   "source": [
    "###### 7. Modélisation "
   ]
  },
  {
   "cell_type": "code",
   "execution_count": 76,
   "metadata": {},
   "outputs": [],
   "source": [
    "# import the relevant module\n",
    "import statsmodels.api as sm\n",
    "\n",
    "# separate our my predictor variables (X) from my outcome variable y\n",
    "X = df2[predictors]  \n",
    "y = df2['meantempm']\n",
    "\n",
    "# Add a constant to the predictor variable set to represent the Bo intercept\n",
    "X = sm.add_constant(X)  "
   ]
  },
  {
   "cell_type": "code",
   "execution_count": 77,
   "metadata": {},
   "outputs": [
    {
     "data": {
      "text/html": [
       "<table class=\"simpletable\">\n",
       "<caption>OLS Regression Results</caption>\n",
       "<tr>\n",
       "  <th>Dep. Variable:</th>        <td>meantempm</td>    <th>  R-squared:         </th> <td>   0.893</td>\n",
       "</tr>\n",
       "<tr>\n",
       "  <th>Model:</th>                   <td>OLS</td>       <th>  Adj. R-squared:    </th> <td>   0.892</td>\n",
       "</tr>\n",
       "<tr>\n",
       "  <th>Method:</th>             <td>Least Squares</td>  <th>  F-statistic:       </th> <td>   499.7</td>\n",
       "</tr>\n",
       "<tr>\n",
       "  <th>Date:</th>             <td>Mon, 09 Apr 2018</td> <th>  Prob (F-statistic):</th>  <td>  0.00</td> \n",
       "</tr>\n",
       "<tr>\n",
       "  <th>Time:</th>                 <td>15:44:05</td>     <th>  Log-Likelihood:    </th> <td> -2948.6</td>\n",
       "</tr>\n",
       "<tr>\n",
       "  <th>No. Observations:</th>      <td>  1093</td>      <th>  AIC:               </th> <td>   5935.</td>\n",
       "</tr>\n",
       "<tr>\n",
       "  <th>Df Residuals:</th>          <td>  1074</td>      <th>  BIC:               </th> <td>   6030.</td>\n",
       "</tr>\n",
       "<tr>\n",
       "  <th>Df Model:</th>              <td>    18</td>      <th>                     </th>     <td> </td>   \n",
       "</tr>\n",
       "<tr>\n",
       "  <th>Covariance Type:</th>      <td>nonrobust</td>    <th>                     </th>     <td> </td>   \n",
       "</tr>\n",
       "</table>\n",
       "<table class=\"simpletable\">\n",
       "<tr>\n",
       "        <td></td>          <th>coef</th>     <th>std err</th>      <th>t</th>      <th>P>|t|</th>  <th>[0.025</th>    <th>0.975]</th>  \n",
       "</tr>\n",
       "<tr>\n",
       "  <th>const</th>        <td>    0.9970</td> <td>    0.504</td> <td>    1.979</td> <td> 0.048</td> <td>    0.009</td> <td>    1.985</td>\n",
       "</tr>\n",
       "<tr>\n",
       "  <th>maxdewptm_3</th>  <td>    0.0433</td> <td>    0.083</td> <td>    0.521</td> <td> 0.602</td> <td>   -0.120</td> <td>    0.206</td>\n",
       "</tr>\n",
       "<tr>\n",
       "  <th>maxtempm_3</th>   <td>    0.0659</td> <td>    0.142</td> <td>    0.463</td> <td> 0.643</td> <td>   -0.213</td> <td>    0.345</td>\n",
       "</tr>\n",
       "<tr>\n",
       "  <th>meandewptm_3</th> <td>    0.0415</td> <td>    0.128</td> <td>    0.325</td> <td> 0.745</td> <td>   -0.209</td> <td>    0.292</td>\n",
       "</tr>\n",
       "<tr>\n",
       "  <th>mindewptm_3</th>  <td>   -0.0305</td> <td>    0.080</td> <td>   -0.382</td> <td> 0.702</td> <td>   -0.187</td> <td>    0.126</td>\n",
       "</tr>\n",
       "<tr>\n",
       "  <th>maxdewptm_2</th>  <td>    0.0418</td> <td>    0.085</td> <td>    0.492</td> <td> 0.623</td> <td>   -0.125</td> <td>    0.208</td>\n",
       "</tr>\n",
       "<tr>\n",
       "  <th>mintempm_3</th>   <td>    0.1375</td> <td>    0.144</td> <td>    0.952</td> <td> 0.341</td> <td>   -0.146</td> <td>    0.421</td>\n",
       "</tr>\n",
       "<tr>\n",
       "  <th>meandewptm_2</th> <td>   -0.0878</td> <td>    0.129</td> <td>   -0.682</td> <td> 0.495</td> <td>   -0.340</td> <td>    0.165</td>\n",
       "</tr>\n",
       "<tr>\n",
       "  <th>mintempm_2</th>   <td>   -0.2760</td> <td>    0.145</td> <td>   -1.897</td> <td> 0.058</td> <td>   -0.562</td> <td>    0.009</td>\n",
       "</tr>\n",
       "<tr>\n",
       "  <th>mindewptm_2</th>  <td>    0.0266</td> <td>    0.082</td> <td>    0.323</td> <td> 0.747</td> <td>   -0.135</td> <td>    0.188</td>\n",
       "</tr>\n",
       "<tr>\n",
       "  <th>meantempm_3</th>  <td>   -0.0280</td> <td>    0.279</td> <td>   -0.101</td> <td> 0.920</td> <td>   -0.575</td> <td>    0.519</td>\n",
       "</tr>\n",
       "<tr>\n",
       "  <th>maxtempm_2</th>   <td>   -0.2833</td> <td>    0.143</td> <td>   -1.979</td> <td> 0.048</td> <td>   -0.564</td> <td>   -0.002</td>\n",
       "</tr>\n",
       "<tr>\n",
       "  <th>meantempm_2</th>  <td>    0.4543</td> <td>    0.279</td> <td>    1.626</td> <td> 0.104</td> <td>   -0.094</td> <td>    1.002</td>\n",
       "</tr>\n",
       "<tr>\n",
       "  <th>maxdewptm_1</th>  <td>   -0.2238</td> <td>    0.085</td> <td>   -2.638</td> <td> 0.008</td> <td>   -0.390</td> <td>   -0.057</td>\n",
       "</tr>\n",
       "<tr>\n",
       "  <th>meandewptm_1</th> <td>    0.0963</td> <td>    0.128</td> <td>    0.750</td> <td> 0.453</td> <td>   -0.156</td> <td>    0.348</td>\n",
       "</tr>\n",
       "<tr>\n",
       "  <th>mindewptm_1</th>  <td>    0.3052</td> <td>    0.079</td> <td>    3.885</td> <td> 0.000</td> <td>    0.151</td> <td>    0.459</td>\n",
       "</tr>\n",
       "<tr>\n",
       "  <th>mintempm_1</th>   <td>    0.0440</td> <td>    0.145</td> <td>    0.303</td> <td> 0.762</td> <td>   -0.241</td> <td>    0.329</td>\n",
       "</tr>\n",
       "<tr>\n",
       "  <th>maxtempm_1</th>   <td>    0.5118</td> <td>    0.142</td> <td>    3.597</td> <td> 0.000</td> <td>    0.233</td> <td>    0.791</td>\n",
       "</tr>\n",
       "<tr>\n",
       "  <th>meantempm_1</th>  <td>    0.1043</td> <td>    0.279</td> <td>    0.373</td> <td> 0.709</td> <td>   -0.444</td> <td>    0.653</td>\n",
       "</tr>\n",
       "</table>\n",
       "<table class=\"simpletable\">\n",
       "<tr>\n",
       "  <th>Omnibus:</th>       <td> 9.768</td> <th>  Durbin-Watson:     </th> <td>   2.011</td>\n",
       "</tr>\n",
       "<tr>\n",
       "  <th>Prob(Omnibus):</th> <td> 0.008</td> <th>  Jarque-Bera (JB):  </th> <td>  12.407</td>\n",
       "</tr>\n",
       "<tr>\n",
       "  <th>Skew:</th>          <td>-0.111</td> <th>  Prob(JB):          </th> <td> 0.00202</td>\n",
       "</tr>\n",
       "<tr>\n",
       "  <th>Kurtosis:</th>      <td> 3.472</td> <th>  Cond. No.          </th> <td>    281.</td>\n",
       "</tr>\n",
       "</table>"
      ],
      "text/plain": [
       "<class 'statsmodels.iolib.summary.Summary'>\n",
       "\"\"\"\n",
       "                            OLS Regression Results                            \n",
       "==============================================================================\n",
       "Dep. Variable:              meantempm   R-squared:                       0.893\n",
       "Model:                            OLS   Adj. R-squared:                  0.892\n",
       "Method:                 Least Squares   F-statistic:                     499.7\n",
       "Date:                Mon, 09 Apr 2018   Prob (F-statistic):               0.00\n",
       "Time:                        15:44:05   Log-Likelihood:                -2948.6\n",
       "No. Observations:                1093   AIC:                             5935.\n",
       "Df Residuals:                    1074   BIC:                             6030.\n",
       "Df Model:                          18                                         \n",
       "Covariance Type:            nonrobust                                         \n",
       "================================================================================\n",
       "                   coef    std err          t      P>|t|      [0.025      0.975]\n",
       "--------------------------------------------------------------------------------\n",
       "const            0.9970      0.504      1.979      0.048       0.009       1.985\n",
       "maxdewptm_3      0.0433      0.083      0.521      0.602      -0.120       0.206\n",
       "maxtempm_3       0.0659      0.142      0.463      0.643      -0.213       0.345\n",
       "meandewptm_3     0.0415      0.128      0.325      0.745      -0.209       0.292\n",
       "mindewptm_3     -0.0305      0.080     -0.382      0.702      -0.187       0.126\n",
       "maxdewptm_2      0.0418      0.085      0.492      0.623      -0.125       0.208\n",
       "mintempm_3       0.1375      0.144      0.952      0.341      -0.146       0.421\n",
       "meandewptm_2    -0.0878      0.129     -0.682      0.495      -0.340       0.165\n",
       "mintempm_2      -0.2760      0.145     -1.897      0.058      -0.562       0.009\n",
       "mindewptm_2      0.0266      0.082      0.323      0.747      -0.135       0.188\n",
       "meantempm_3     -0.0280      0.279     -0.101      0.920      -0.575       0.519\n",
       "maxtempm_2      -0.2833      0.143     -1.979      0.048      -0.564      -0.002\n",
       "meantempm_2      0.4543      0.279      1.626      0.104      -0.094       1.002\n",
       "maxdewptm_1     -0.2238      0.085     -2.638      0.008      -0.390      -0.057\n",
       "meandewptm_1     0.0963      0.128      0.750      0.453      -0.156       0.348\n",
       "mindewptm_1      0.3052      0.079      3.885      0.000       0.151       0.459\n",
       "mintempm_1       0.0440      0.145      0.303      0.762      -0.241       0.329\n",
       "maxtempm_1       0.5118      0.142      3.597      0.000       0.233       0.791\n",
       "meantempm_1      0.1043      0.279      0.373      0.709      -0.444       0.653\n",
       "==============================================================================\n",
       "Omnibus:                        9.768   Durbin-Watson:                   2.011\n",
       "Prob(Omnibus):                  0.008   Jarque-Bera (JB):               12.407\n",
       "Skew:                          -0.111   Prob(JB):                      0.00202\n",
       "Kurtosis:                       3.472   Cond. No.                         281.\n",
       "==============================================================================\n",
       "\n",
       "Warnings:\n",
       "[1] Standard Errors assume that the covariance matrix of the errors is correctly specified.\n",
       "\"\"\""
      ]
     },
     "execution_count": 77,
     "metadata": {},
     "output_type": "execute_result"
    }
   ],
   "source": [
    "# (1) select a significance value\n",
    "alpha = 0.05\n",
    "\n",
    "# (2) Fit the model\n",
    "model = sm.OLS(y, X).fit()\n",
    "\n",
    "# (3) evaluate the coefficients' p-values\n",
    "model.summary()  "
   ]
  },
  {
   "cell_type": "code",
   "execution_count": 78,
   "metadata": {},
   "outputs": [
    {
     "data": {
      "text/html": [
       "<table class=\"simpletable\">\n",
       "<caption>OLS Regression Results</caption>\n",
       "<tr>\n",
       "  <th>Dep. Variable:</th>        <td>meantempm</td>    <th>  R-squared:         </th> <td>   0.893</td>\n",
       "</tr>\n",
       "<tr>\n",
       "  <th>Model:</th>                   <td>OLS</td>       <th>  Adj. R-squared:    </th> <td>   0.892</td>\n",
       "</tr>\n",
       "<tr>\n",
       "  <th>Method:</th>             <td>Least Squares</td>  <th>  F-statistic:       </th> <td>   529.5</td>\n",
       "</tr>\n",
       "<tr>\n",
       "  <th>Date:</th>             <td>Mon, 09 Apr 2018</td> <th>  Prob (F-statistic):</th>  <td>  0.00</td> \n",
       "</tr>\n",
       "<tr>\n",
       "  <th>Time:</th>                 <td>15:44:08</td>     <th>  Log-Likelihood:    </th> <td> -2948.6</td>\n",
       "</tr>\n",
       "<tr>\n",
       "  <th>No. Observations:</th>      <td>  1093</td>      <th>  AIC:               </th> <td>   5933.</td>\n",
       "</tr>\n",
       "<tr>\n",
       "  <th>Df Residuals:</th>          <td>  1075</td>      <th>  BIC:               </th> <td>   6023.</td>\n",
       "</tr>\n",
       "<tr>\n",
       "  <th>Df Model:</th>              <td>    17</td>      <th>                     </th>     <td> </td>   \n",
       "</tr>\n",
       "<tr>\n",
       "  <th>Covariance Type:</th>      <td>nonrobust</td>    <th>                     </th>     <td> </td>   \n",
       "</tr>\n",
       "</table>\n",
       "<table class=\"simpletable\">\n",
       "<tr>\n",
       "        <td></td>          <th>coef</th>     <th>std err</th>      <th>t</th>      <th>P>|t|</th>  <th>[0.025</th>    <th>0.975]</th>  \n",
       "</tr>\n",
       "<tr>\n",
       "  <th>const</th>        <td>    0.9926</td> <td>    0.502</td> <td>    1.979</td> <td> 0.048</td> <td>    0.008</td> <td>    1.977</td>\n",
       "</tr>\n",
       "<tr>\n",
       "  <th>maxdewptm_3</th>  <td>    0.0431</td> <td>    0.083</td> <td>    0.519</td> <td> 0.604</td> <td>   -0.120</td> <td>    0.206</td>\n",
       "</tr>\n",
       "<tr>\n",
       "  <th>maxtempm_3</th>   <td>    0.0519</td> <td>    0.031</td> <td>    1.701</td> <td> 0.089</td> <td>   -0.008</td> <td>    0.112</td>\n",
       "</tr>\n",
       "<tr>\n",
       "  <th>meandewptm_3</th> <td>    0.0416</td> <td>    0.128</td> <td>    0.326</td> <td> 0.745</td> <td>   -0.209</td> <td>    0.292</td>\n",
       "</tr>\n",
       "<tr>\n",
       "  <th>mindewptm_3</th>  <td>   -0.0309</td> <td>    0.080</td> <td>   -0.387</td> <td> 0.699</td> <td>   -0.188</td> <td>    0.126</td>\n",
       "</tr>\n",
       "<tr>\n",
       "  <th>maxdewptm_2</th>  <td>    0.0420</td> <td>    0.085</td> <td>    0.495</td> <td> 0.621</td> <td>   -0.124</td> <td>    0.208</td>\n",
       "</tr>\n",
       "<tr>\n",
       "  <th>mintempm_3</th>   <td>    0.1239</td> <td>    0.051</td> <td>    2.406</td> <td> 0.016</td> <td>    0.023</td> <td>    0.225</td>\n",
       "</tr>\n",
       "<tr>\n",
       "  <th>meandewptm_2</th> <td>   -0.0877</td> <td>    0.129</td> <td>   -0.682</td> <td> 0.495</td> <td>   -0.340</td> <td>    0.165</td>\n",
       "</tr>\n",
       "<tr>\n",
       "  <th>mintempm_2</th>   <td>   -0.2753</td> <td>    0.145</td> <td>   -1.895</td> <td> 0.058</td> <td>   -0.560</td> <td>    0.010</td>\n",
       "</tr>\n",
       "<tr>\n",
       "  <th>mindewptm_2</th>  <td>    0.0268</td> <td>    0.082</td> <td>    0.325</td> <td> 0.745</td> <td>   -0.135</td> <td>    0.188</td>\n",
       "</tr>\n",
       "<tr>\n",
       "  <th>maxtempm_2</th>   <td>   -0.2825</td> <td>    0.143</td> <td>   -1.977</td> <td> 0.048</td> <td>   -0.563</td> <td>   -0.002</td>\n",
       "</tr>\n",
       "<tr>\n",
       "  <th>meantempm_2</th>  <td>    0.4526</td> <td>    0.279</td> <td>    1.624</td> <td> 0.105</td> <td>   -0.094</td> <td>    0.999</td>\n",
       "</tr>\n",
       "<tr>\n",
       "  <th>maxdewptm_1</th>  <td>   -0.2239</td> <td>    0.085</td> <td>   -2.640</td> <td> 0.008</td> <td>   -0.390</td> <td>   -0.058</td>\n",
       "</tr>\n",
       "<tr>\n",
       "  <th>meandewptm_1</th> <td>    0.0964</td> <td>    0.128</td> <td>    0.751</td> <td> 0.453</td> <td>   -0.155</td> <td>    0.348</td>\n",
       "</tr>\n",
       "<tr>\n",
       "  <th>mindewptm_1</th>  <td>    0.3052</td> <td>    0.079</td> <td>    3.886</td> <td> 0.000</td> <td>    0.151</td> <td>    0.459</td>\n",
       "</tr>\n",
       "<tr>\n",
       "  <th>mintempm_1</th>   <td>    0.0442</td> <td>    0.145</td> <td>    0.305</td> <td> 0.761</td> <td>   -0.240</td> <td>    0.329</td>\n",
       "</tr>\n",
       "<tr>\n",
       "  <th>maxtempm_1</th>   <td>    0.5121</td> <td>    0.142</td> <td>    3.601</td> <td> 0.000</td> <td>    0.233</td> <td>    0.791</td>\n",
       "</tr>\n",
       "<tr>\n",
       "  <th>meantempm_1</th>  <td>    0.1037</td> <td>    0.279</td> <td>    0.372</td> <td> 0.710</td> <td>   -0.444</td> <td>    0.652</td>\n",
       "</tr>\n",
       "</table>\n",
       "<table class=\"simpletable\">\n",
       "<tr>\n",
       "  <th>Omnibus:</th>       <td> 9.745</td> <th>  Durbin-Watson:     </th> <td>   2.011</td>\n",
       "</tr>\n",
       "<tr>\n",
       "  <th>Prob(Omnibus):</th> <td> 0.008</td> <th>  Jarque-Bera (JB):  </th> <td>  12.362</td>\n",
       "</tr>\n",
       "<tr>\n",
       "  <th>Skew:</th>          <td>-0.111</td> <th>  Prob(JB):          </th> <td> 0.00207</td>\n",
       "</tr>\n",
       "<tr>\n",
       "  <th>Kurtosis:</th>      <td> 3.471</td> <th>  Cond. No.          </th> <td>    269.</td>\n",
       "</tr>\n",
       "</table>"
      ],
      "text/plain": [
       "<class 'statsmodels.iolib.summary.Summary'>\n",
       "\"\"\"\n",
       "                            OLS Regression Results                            \n",
       "==============================================================================\n",
       "Dep. Variable:              meantempm   R-squared:                       0.893\n",
       "Model:                            OLS   Adj. R-squared:                  0.892\n",
       "Method:                 Least Squares   F-statistic:                     529.5\n",
       "Date:                Mon, 09 Apr 2018   Prob (F-statistic):               0.00\n",
       "Time:                        15:44:08   Log-Likelihood:                -2948.6\n",
       "No. Observations:                1093   AIC:                             5933.\n",
       "Df Residuals:                    1075   BIC:                             6023.\n",
       "Df Model:                          17                                         \n",
       "Covariance Type:            nonrobust                                         \n",
       "================================================================================\n",
       "                   coef    std err          t      P>|t|      [0.025      0.975]\n",
       "--------------------------------------------------------------------------------\n",
       "const            0.9926      0.502      1.979      0.048       0.008       1.977\n",
       "maxdewptm_3      0.0431      0.083      0.519      0.604      -0.120       0.206\n",
       "maxtempm_3       0.0519      0.031      1.701      0.089      -0.008       0.112\n",
       "meandewptm_3     0.0416      0.128      0.326      0.745      -0.209       0.292\n",
       "mindewptm_3     -0.0309      0.080     -0.387      0.699      -0.188       0.126\n",
       "maxdewptm_2      0.0420      0.085      0.495      0.621      -0.124       0.208\n",
       "mintempm_3       0.1239      0.051      2.406      0.016       0.023       0.225\n",
       "meandewptm_2    -0.0877      0.129     -0.682      0.495      -0.340       0.165\n",
       "mintempm_2      -0.2753      0.145     -1.895      0.058      -0.560       0.010\n",
       "mindewptm_2      0.0268      0.082      0.325      0.745      -0.135       0.188\n",
       "maxtempm_2      -0.2825      0.143     -1.977      0.048      -0.563      -0.002\n",
       "meantempm_2      0.4526      0.279      1.624      0.105      -0.094       0.999\n",
       "maxdewptm_1     -0.2239      0.085     -2.640      0.008      -0.390      -0.058\n",
       "meandewptm_1     0.0964      0.128      0.751      0.453      -0.155       0.348\n",
       "mindewptm_1      0.3052      0.079      3.886      0.000       0.151       0.459\n",
       "mintempm_1       0.0442      0.145      0.305      0.761      -0.240       0.329\n",
       "maxtempm_1       0.5121      0.142      3.601      0.000       0.233       0.791\n",
       "meantempm_1      0.1037      0.279      0.372      0.710      -0.444       0.652\n",
       "==============================================================================\n",
       "Omnibus:                        9.745   Durbin-Watson:                   2.011\n",
       "Prob(Omnibus):                  0.008   Jarque-Bera (JB):               12.362\n",
       "Skew:                          -0.111   Prob(JB):                      0.00207\n",
       "Kurtosis:                       3.471   Cond. No.                         269.\n",
       "==============================================================================\n",
       "\n",
       "Warnings:\n",
       "[1] Standard Errors assume that the covariance matrix of the errors is correctly specified.\n",
       "\"\"\""
      ]
     },
     "execution_count": 78,
     "metadata": {},
     "output_type": "execute_result"
    }
   ],
   "source": [
    "# (3) cont. - Identify the predictor with the greatest p-value and assess if its > our selected alpha.\n",
    "#             based off the table it is clear that meantempm_3 has the greatest p-value and that it is\n",
    "#             greater than our alpha of 0.05\n",
    "\n",
    "# (4) - Use pandas drop function to remove this column from X\n",
    "X = X.drop('meantempm_3', axis=1)\n",
    "\n",
    "# (5) Fit the model \n",
    "model = sm.OLS(y, X).fit()\n",
    "\n",
    "model.summary()  "
   ]
  },
  {
   "cell_type": "markdown",
   "metadata": {},
   "source": [
    "Nous allons maintenant écrire une fonction qui permet de faire le reste du travail d'une façon automatique :"
   ]
  },
  {
   "cell_type": "code",
   "execution_count": 79,
   "metadata": {
    "collapsed": true
   },
   "outputs": [],
   "source": [
    "def step_OLS(model,X,y):\n",
    "    #feature with the greatest p-value : \n",
    "    while (model.pvalues.max()>alpha) :\n",
    "        feature = model.pvalues.idxmax()\n",
    "        X = X.drop(feature, axis=1)\n",
    "        model = sm.OLS(y, X).fit()\n",
    "    return (model,X,y)"
   ]
  },
  {
   "cell_type": "code",
   "execution_count": 80,
   "metadata": {},
   "outputs": [],
   "source": [
    "res= step_OLS(model,X,y)"
   ]
  },
  {
   "cell_type": "code",
   "execution_count": 82,
   "metadata": {},
   "outputs": [
    {
     "data": {
      "text/html": [
       "<table class=\"simpletable\">\n",
       "<caption>OLS Regression Results</caption>\n",
       "<tr>\n",
       "  <th>Dep. Variable:</th>        <td>meantempm</td>    <th>  R-squared:         </th> <td>   0.892</td>\n",
       "</tr>\n",
       "<tr>\n",
       "  <th>Model:</th>                   <td>OLS</td>       <th>  Adj. R-squared:    </th> <td>   0.892</td>\n",
       "</tr>\n",
       "<tr>\n",
       "  <th>Method:</th>             <td>Least Squares</td>  <th>  F-statistic:       </th> <td>   1497.</td>\n",
       "</tr>\n",
       "<tr>\n",
       "  <th>Date:</th>             <td>Mon, 09 Apr 2018</td> <th>  Prob (F-statistic):</th>  <td>  0.00</td> \n",
       "</tr>\n",
       "<tr>\n",
       "  <th>Time:</th>                 <td>15:44:49</td>     <th>  Log-Likelihood:    </th> <td> -2954.6</td>\n",
       "</tr>\n",
       "<tr>\n",
       "  <th>No. Observations:</th>      <td>  1093</td>      <th>  AIC:               </th> <td>   5923.</td>\n",
       "</tr>\n",
       "<tr>\n",
       "  <th>Df Residuals:</th>          <td>  1086</td>      <th>  BIC:               </th> <td>   5958.</td>\n",
       "</tr>\n",
       "<tr>\n",
       "  <th>Df Model:</th>              <td>     6</td>      <th>                     </th>     <td> </td>   \n",
       "</tr>\n",
       "<tr>\n",
       "  <th>Covariance Type:</th>      <td>nonrobust</td>    <th>                     </th>     <td> </td>   \n",
       "</tr>\n",
       "</table>\n",
       "<table class=\"simpletable\">\n",
       "<tr>\n",
       "       <td></td>          <th>coef</th>     <th>std err</th>      <th>t</th>      <th>P>|t|</th>  <th>[0.025</th>    <th>0.975]</th>  \n",
       "</tr>\n",
       "<tr>\n",
       "  <th>const</th>       <td>    1.3245</td> <td>    0.433</td> <td>    3.057</td> <td> 0.002</td> <td>    0.474</td> <td>    2.175</td>\n",
       "</tr>\n",
       "<tr>\n",
       "  <th>maxtempm_3</th>  <td>    0.0644</td> <td>    0.028</td> <td>    2.320</td> <td> 0.021</td> <td>    0.010</td> <td>    0.119</td>\n",
       "</tr>\n",
       "<tr>\n",
       "  <th>mintempm_3</th>  <td>    0.1364</td> <td>    0.026</td> <td>    5.219</td> <td> 0.000</td> <td>    0.085</td> <td>    0.188</td>\n",
       "</tr>\n",
       "<tr>\n",
       "  <th>maxtempm_2</th>  <td>   -0.0719</td> <td>    0.029</td> <td>   -2.509</td> <td> 0.012</td> <td>   -0.128</td> <td>   -0.016</td>\n",
       "</tr>\n",
       "<tr>\n",
       "  <th>maxdewptm_1</th> <td>   -0.1782</td> <td>    0.043</td> <td>   -4.193</td> <td> 0.000</td> <td>   -0.262</td> <td>   -0.095</td>\n",
       "</tr>\n",
       "<tr>\n",
       "  <th>mindewptm_1</th> <td>    0.3983</td> <td>    0.037</td> <td>   10.777</td> <td> 0.000</td> <td>    0.326</td> <td>    0.471</td>\n",
       "</tr>\n",
       "<tr>\n",
       "  <th>maxtempm_1</th>  <td>    0.5852</td> <td>    0.026</td> <td>   22.733</td> <td> 0.000</td> <td>    0.535</td> <td>    0.636</td>\n",
       "</tr>\n",
       "</table>\n",
       "<table class=\"simpletable\">\n",
       "<tr>\n",
       "  <th>Omnibus:</th>       <td> 8.977</td> <th>  Durbin-Watson:     </th> <td>   1.968</td>\n",
       "</tr>\n",
       "<tr>\n",
       "  <th>Prob(Omnibus):</th> <td> 0.011</td> <th>  Jarque-Bera (JB):  </th> <td>  11.393</td>\n",
       "</tr>\n",
       "<tr>\n",
       "  <th>Skew:</th>          <td>-0.099</td> <th>  Prob(JB):          </th> <td> 0.00336</td>\n",
       "</tr>\n",
       "<tr>\n",
       "  <th>Kurtosis:</th>      <td> 3.459</td> <th>  Cond. No.          </th> <td>    166.</td>\n",
       "</tr>\n",
       "</table>"
      ],
      "text/plain": [
       "<class 'statsmodels.iolib.summary.Summary'>\n",
       "\"\"\"\n",
       "                            OLS Regression Results                            \n",
       "==============================================================================\n",
       "Dep. Variable:              meantempm   R-squared:                       0.892\n",
       "Model:                            OLS   Adj. R-squared:                  0.892\n",
       "Method:                 Least Squares   F-statistic:                     1497.\n",
       "Date:                Mon, 09 Apr 2018   Prob (F-statistic):               0.00\n",
       "Time:                        15:44:49   Log-Likelihood:                -2954.6\n",
       "No. Observations:                1093   AIC:                             5923.\n",
       "Df Residuals:                    1086   BIC:                             5958.\n",
       "Df Model:                           6                                         \n",
       "Covariance Type:            nonrobust                                         \n",
       "===============================================================================\n",
       "                  coef    std err          t      P>|t|      [0.025      0.975]\n",
       "-------------------------------------------------------------------------------\n",
       "const           1.3245      0.433      3.057      0.002       0.474       2.175\n",
       "maxtempm_3      0.0644      0.028      2.320      0.021       0.010       0.119\n",
       "mintempm_3      0.1364      0.026      5.219      0.000       0.085       0.188\n",
       "maxtempm_2     -0.0719      0.029     -2.509      0.012      -0.128      -0.016\n",
       "maxdewptm_1    -0.1782      0.043     -4.193      0.000      -0.262      -0.095\n",
       "mindewptm_1     0.3983      0.037     10.777      0.000       0.326       0.471\n",
       "maxtempm_1      0.5852      0.026     22.733      0.000       0.535       0.636\n",
       "==============================================================================\n",
       "Omnibus:                        8.977   Durbin-Watson:                   1.968\n",
       "Prob(Omnibus):                  0.011   Jarque-Bera (JB):               11.393\n",
       "Skew:                          -0.099   Prob(JB):                      0.00336\n",
       "Kurtosis:                       3.459   Cond. No.                         166.\n",
       "==============================================================================\n",
       "\n",
       "Warnings:\n",
       "[1] Standard Errors assume that the covariance matrix of the errors is correctly specified.\n",
       "\"\"\""
      ]
     },
     "execution_count": 82,
     "metadata": {},
     "output_type": "execute_result"
    }
   ],
   "source": [
    "res[0].summary()"
   ]
  },
  {
   "cell_type": "markdown",
   "metadata": {},
   "source": [
    "Nous pouvons voir à partir de la sortie que tous les prédicteurs restants ont une p-value nettement inférieure à notre <b>threshold</b> de 0,05. Une autre chose mérittant notre attention est les valeurs R-squared dans la sortie finale. Deux choses à noter ici sont : \n",
    "- 1  R-squared et Adj. R-squared sont toutes les deux égales, ce qui suggère qu'il n'y aura pas d'overfitting dans  notre modèle suit à l'ajout de d'autres variables.\n",
    "- 2  la valeur de 0,892 est interprétée de telle sorte que notre modèle final explique environ 90% de la variance de notre variable cible \"meanempm\"."
   ]
  },
  {
   "cell_type": "markdown",
   "metadata": {},
   "source": [
    "###### Conclusion : "
   ]
  },
  {
   "cell_type": "code",
   "execution_count": 84,
   "metadata": {},
   "outputs": [],
   "source": [
    "X=res[1]\n",
    "y=res[2]"
   ]
  },
  {
   "cell_type": "markdown",
   "metadata": {},
   "source": [
    "Les variables explicatives qui sont importantes statistiquement pour prédire la température moyenne sont :  "
   ]
  },
  {
   "cell_type": "code",
   "execution_count": 87,
   "metadata": {},
   "outputs": [
    {
     "name": "stdout",
     "output_type": "stream",
     "text": [
      "['const', 'maxtempm_3', 'mintempm_3', 'maxtempm_2', 'maxdewptm_1', 'mindewptm_1', 'maxtempm_1']\n"
     ]
    }
   ],
   "source": [
    "print(list(X.columns))"
   ]
  },
  {
   "cell_type": "markdown",
   "metadata": {},
   "source": [
    "# SciKit Learn : La régression linéaire "
   ]
  },
  {
   "cell_type": "markdown",
   "metadata": {},
   "source": [
    "Après avoir déterminé les variables qui statistiquement significatifs, nous allons maintenanant utiliser Scikit-learn pour prédire la température moyenne."
   ]
  },
  {
   "cell_type": "markdown",
   "metadata": {},
   "source": [
    "###### split data train/test : "
   ]
  },
  {
   "cell_type": "code",
   "execution_count": 88,
   "metadata": {
    "collapsed": true
   },
   "outputs": [],
   "source": [
    "from sklearn.model_selection import train_test_split  \n",
    "# first remove the const column because unlike statsmodels, SciKit-Learn will add that in for us\n",
    "X = X.drop('const', axis=1)\n",
    "\n",
    "X_train, X_test, y_train, y_test = train_test_split(X, y, test_size=0.2, random_state=12)  "
   ]
  },
  {
   "cell_type": "markdown",
   "metadata": {},
   "source": [
    "###### Train model/ test model : "
   ]
  },
  {
   "cell_type": "code",
   "execution_count": 89,
   "metadata": {},
   "outputs": [
    {
     "name": "stdout",
     "output_type": "stream",
     "text": [
      "The Explained Variance: 0.89\n",
      "The Mean Absolute Error: 2.97 degrees celsius\n",
      "The Median Absolute Error: 2.47 degrees celsius\n"
     ]
    }
   ],
   "source": [
    "from sklearn.linear_model import LinearRegression  \n",
    "# instantiate the regressor class\n",
    "regressor = LinearRegression()\n",
    "\n",
    "# fit the model by fitting the regressor to the training data\n",
    "regressor.fit(X_train, y_train)\n",
    "\n",
    "# make a prediction set using the test set\n",
    "prediction = regressor.predict(X_test)\n",
    "\n",
    "# Evaluate the prediction accuracy of the model\n",
    "from sklearn.metrics import mean_absolute_error, median_absolute_error  \n",
    "print(\"The Explained Variance: %.2f\" % regressor.score(X_test, y_test))  \n",
    "print(\"The Mean Absolute Error: %.2f degrees celsius\" % mean_absolute_error(y_test, prediction))  \n",
    "print(\"The Median Absolute Error: %.2f degrees celsius\" % median_absolute_error(y_test, prediction))  "
   ]
  },
  {
   "cell_type": "markdown",
   "metadata": {},
   "source": [
    "Pour avoir une compréhension interprétative de la validité de notre modèle, j'ai utilisé la fonction <i> score() </i>, cela nous permet d'avoir une variance expliquée d'environ 90%. De plus, l'utilisation de mean_absolute_error() et median_absolute_error() du module sklearn.metrics nous permet de déterminer que l'erreur de prédiction est en moyenne d'environ 3 degrés Celsius et la moitié du temps d'environ 2 degrés Celsius."
   ]
  },
  {
   "cell_type": "markdown",
   "metadata": {},
   "source": [
    "# Conclusion : "
   ]
  },
  {
   "cell_type": "markdown",
   "metadata": {},
   "source": [
    "Nous avons bien réussi à établir un modèle de regréssion linéaire qui très bon dans le mesure où il explique une variance totale de 90% du jeu de données. L'anlayse nous a permet de conclure quant à la dépendance de la température avec certaine variables climatiques et leurs historiques temporels."
   ]
  },
  {
   "cell_type": "code",
   "execution_count": null,
   "metadata": {
    "collapsed": true
   },
   "outputs": [],
   "source": []
  }
 ],
 "metadata": {
  "kernelspec": {
   "display_name": "Python 3",
   "language": "python",
   "name": "python3"
  },
  "language_info": {
   "codemirror_mode": {
    "name": "ipython",
    "version": 3
   },
   "file_extension": ".py",
   "mimetype": "text/x-python",
   "name": "python",
   "nbconvert_exporter": "python",
   "pygments_lexer": "ipython3",
   "version": "3.6.3"
  }
 },
 "nbformat": 4,
 "nbformat_minor": 2
}
